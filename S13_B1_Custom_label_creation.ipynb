{
  "nbformat": 4,
  "nbformat_minor": 0,
  "metadata": {
    "colab": {
      "name": "S13_B1_Custom_label_creation.ipynb",
      "provenance": [],
      "authorship_tag": "ABX9TyNu8uwshU6jiiIL8BY+s/J2",
      "include_colab_link": true
    },
    "kernelspec": {
      "name": "python3",
      "display_name": "Python 3"
    }
  },
  "cells": [
    {
      "cell_type": "markdown",
      "metadata": {
        "id": "view-in-github",
        "colab_type": "text"
      },
      "source": [
        "<a href=\"https://colab.research.google.com/github/aimbsg/EVA4_S13/blob/master/S13_B1_Custom_label_creation.ipynb\" target=\"_parent\"><img src=\"https://colab.research.google.com/assets/colab-badge.svg\" alt=\"Open In Colab\"/></a>"
      ]
    },
    {
      "cell_type": "code",
      "metadata": {
        "id": "cC_Nbi5SXhf5",
        "colab_type": "code",
        "outputId": "b4ff4151-0e6f-441b-8e06-c29d21246028",
        "colab": {
          "base_uri": "https://localhost:8080/",
          "height": 121
        }
      },
      "source": [
        "from google.colab import drive\n",
        "drive.mount('/content/gdrive/', force_remount = True)"
      ],
      "execution_count": 0,
      "outputs": [
        {
          "output_type": "stream",
          "text": [
            "Go to this URL in a browser: https://accounts.google.com/o/oauth2/auth?client_id=947318989803-6bn6qk8qdgf4n4g3pfee6491hc0brc4i.apps.googleusercontent.com&redirect_uri=urn%3aietf%3awg%3aoauth%3a2.0%3aoob&response_type=code&scope=email%20https%3a%2f%2fwww.googleapis.com%2fauth%2fdocs.test%20https%3a%2f%2fwww.googleapis.com%2fauth%2fdrive%20https%3a%2f%2fwww.googleapis.com%2fauth%2fdrive.photos.readonly%20https%3a%2f%2fwww.googleapis.com%2fauth%2fpeopleapi.readonly\n",
            "\n",
            "Enter your authorization code:\n",
            "··········\n",
            "Mounted at /content/gdrive/\n"
          ],
          "name": "stdout"
        }
      ]
    },
    {
      "cell_type": "code",
      "metadata": {
        "id": "jn_exOyMeLK7",
        "colab_type": "code",
        "outputId": "92da27da-e80e-4a79-8671-ad1d56b7edaa",
        "colab": {
          "base_uri": "https://localhost:8080/",
          "height": 34
        }
      },
      "source": [
        "%cd '/content/gdrive/My Drive/EVA4_S13_Yolo_Custom_Dataset/'"
      ],
      "execution_count": 0,
      "outputs": [
        {
          "output_type": "stream",
          "text": [
            "/content/gdrive/My Drive/EVA4_S13_Yolo_Custom_Dataset\n"
          ],
          "name": "stdout"
        }
      ]
    },
    {
      "cell_type": "code",
      "metadata": {
        "id": "P_h3YOyEd4ve",
        "colab_type": "code",
        "colab": {}
      },
      "source": [
        "import pandas as pd\n",
        "import json"
      ],
      "execution_count": 0,
      "outputs": []
    },
    {
      "cell_type": "code",
      "metadata": {
        "id": "UPxEag92ZE47",
        "colab_type": "code",
        "colab": {}
      },
      "source": [
        "json_input = json.load(open('annotation_input.json'))"
      ],
      "execution_count": 0,
      "outputs": []
    },
    {
      "cell_type": "code",
      "metadata": {
        "id": "gQ8ENjEkZJJa",
        "colab_type": "code",
        "outputId": "29438820-0bf4-4e3d-abfe-917fedafd4e6",
        "colab": {
          "base_uri": "https://localhost:8080/",
          "height": 34
        }
      },
      "source": [
        "json_input.keys()"
      ],
      "execution_count": 0,
      "outputs": [
        {
          "output_type": "execute_result",
          "data": {
            "text/plain": [
              "dict_keys(['info', 'images', 'annotations', 'licenses', 'categories'])"
            ]
          },
          "metadata": {
            "tags": []
          },
          "execution_count": 5
        }
      ]
    },
    {
      "cell_type": "code",
      "metadata": {
        "id": "dFVDYgryZKuA",
        "colab_type": "code",
        "outputId": "fe6a4ec5-c3e5-4f29-ca74-44d6508565ae",
        "colab": {
          "base_uri": "https://localhost:8080/",
          "height": 54
        }
      },
      "source": [
        "json_input.values()"
      ],
      "execution_count": 0,
      "outputs": [
        {
          "output_type": "execute_result",
          "data": {
            "text/plain": [
              "dict_values([{'year': 2020, 'version': '1', 'description': 'Exported using VGG Image Annotator (http://www.robots.ox.ac.uk/~vgg/software/via/)', 'contributor': '', 'url': 'http://www.robots.ox.ac.uk/~vgg/software/via/', 'date_created': 'Fri Apr 24 2020 14:19:54 GMT+0530 (India Standard Time)'}, [{'id': 0, 'width': 1920, 'height': 1080, 'file_name': 'img001.jpg', 'license': 1, 'date_captured': ''}, {'id': 1, 'width': 1920, 'height': 1080, 'file_name': 'img002.jpg', 'license': 1, 'date_captured': ''}, {'id': 2, 'width': 1920, 'height': 1200, 'file_name': 'img003.jpg', 'license': 1, 'date_captured': ''}, {'id': 3, 'width': 2880, 'height': 1800, 'file_name': 'img004.jpg', 'license': 1, 'date_captured': ''}, {'id': 4, 'width': 1920, 'height': 1200, 'file_name': 'img005.jpg', 'license': 1, 'date_captured': ''}, {'id': 5, 'width': 2560, 'height': 1600, 'file_name': 'img006.jpg', 'license': 1, 'date_captured': ''}, {'id': 6, 'width': 1920, 'height': 1080, 'file_name': 'img007.jpg', 'license': 1, 'date_captured': ''}, {'id': 7, 'width': 1920, 'height': 1200, 'file_name': 'img008.jpg', 'license': 1, 'date_captured': ''}, {'id': 8, 'width': 1920, 'height': 1200, 'file_name': 'img009.jpg', 'license': 1, 'date_captured': ''}, {'id': 9, 'width': 1920, 'height': 1080, 'file_name': 'img010.jpg', 'license': 1, 'date_captured': ''}, {'id': 10, 'width': 1920, 'height': 1080, 'file_name': 'img011.jpg', 'license': 1, 'date_captured': ''}, {'id': 11, 'width': 1920, 'height': 1200, 'file_name': 'img012.jpg', 'license': 1, 'date_captured': ''}, {'id': 12, 'width': 1920, 'height': 1080, 'file_name': 'img013.jpg', 'license': 1, 'date_captured': ''}, {'id': 13, 'width': 1920, 'height': 1080, 'file_name': 'img014.jpg', 'license': 1, 'date_captured': ''}, {'id': 14, 'width': 1920, 'height': 1080, 'file_name': 'img015.jpg', 'license': 1, 'date_captured': ''}, {'id': 15, 'width': 1920, 'height': 1080, 'file_name': 'img016.jpg', 'license': 1, 'date_captured': ''}, {'id': 16, 'width': 1920, 'height': 1200, 'file_name': 'img017.jpg', 'license': 1, 'date_captured': ''}, {'id': 17, 'width': 1920, 'height': 1200, 'file_name': 'img018.jpg', 'license': 1, 'date_captured': ''}, {'id': 18, 'width': 1920, 'height': 1200, 'file_name': 'img019.jpg', 'license': 1, 'date_captured': ''}, {'id': 19, 'width': 1920, 'height': 1200, 'file_name': 'img020.jpg', 'license': 1, 'date_captured': ''}, {'id': 20, 'width': 1920, 'height': 1200, 'file_name': 'img021.jpg', 'license': 1, 'date_captured': ''}, {'id': 21, 'width': 1080, 'height': 1920, 'file_name': 'img022.jpg', 'license': 1, 'date_captured': ''}, {'id': 22, 'width': 1920, 'height': 1080, 'file_name': 'img023.jpg', 'license': 1, 'date_captured': ''}, {'id': 23, 'width': 1920, 'height': 1080, 'file_name': 'img024.jpg', 'license': 1, 'date_captured': ''}, {'id': 24, 'width': 1920, 'height': 1080, 'file_name': 'img025.jpg', 'license': 1, 'date_captured': ''}, {'id': 25, 'width': 1920, 'height': 1080, 'file_name': 'img026.jpg', 'license': 1, 'date_captured': ''}, {'id': 26, 'width': 1920, 'height': 1080, 'file_name': 'img027.jpg', 'license': 1, 'date_captured': ''}, {'id': 27, 'width': 1920, 'height': 1080, 'file_name': 'img028.jpg', 'license': 1, 'date_captured': ''}, {'id': 28, 'width': 1920, 'height': 1080, 'file_name': 'img029.jpg', 'license': 1, 'date_captured': ''}, {'id': 29, 'width': 1920, 'height': 1200, 'file_name': 'img030.jpg', 'license': 1, 'date_captured': ''}, {'id': 30, 'width': 1920, 'height': 1200, 'file_name': 'img031.jpg', 'license': 1, 'date_captured': ''}, {'id': 31, 'width': 1920, 'height': 1080, 'file_name': 'img032.jpg', 'license': 1, 'date_captured': ''}, {'id': 32, 'width': 1920, 'height': 1200, 'file_name': 'img033.jpg', 'license': 1, 'date_captured': ''}, {'id': 33, 'width': 1920, 'height': 1080, 'file_name': 'img034.jpg', 'license': 1, 'date_captured': ''}, {'id': 34, 'width': 1920, 'height': 1200, 'file_name': 'img035.jpg', 'license': 1, 'date_captured': ''}, {'id': 35, 'width': 1920, 'height': 1200, 'file_name': 'img036.jpg', 'license': 1, 'date_captured': ''}, {'id': 36, 'width': 2048, 'height': 2048, 'file_name': 'img037.jpg', 'license': 1, 'date_captured': ''}, {'id': 37, 'width': 1920, 'height': 1080, 'file_name': 'img038.jpg', 'license': 1, 'date_captured': ''}, {'id': 38, 'width': 2880, 'height': 1800, 'file_name': 'img039.jpg', 'license': 1, 'date_captured': ''}, {'id': 39, 'width': 1920, 'height': 1080, 'file_name': 'img040.jpg', 'license': 1, 'date_captured': ''}, {'id': 40, 'width': 1920, 'height': 1200, 'file_name': 'img041.jpg', 'license': 1, 'date_captured': ''}, {'id': 41, 'width': 1920, 'height': 1200, 'file_name': 'img042.jpg', 'license': 1, 'date_captured': ''}, {'id': 42, 'width': 1920, 'height': 1200, 'file_name': 'img043.jpg', 'license': 1, 'date_captured': ''}, {'id': 43, 'width': 1920, 'height': 1080, 'file_name': 'img044.jpg', 'license': 1, 'date_captured': ''}, {'id': 44, 'width': 2048, 'height': 1152, 'file_name': 'img045.jpg', 'license': 1, 'date_captured': ''}, {'id': 45, 'width': 1920, 'height': 1080, 'file_name': 'img046.jpg', 'license': 1, 'date_captured': ''}, {'id': 46, 'width': 1920, 'height': 1080, 'file_name': 'img047.jpg', 'license': 1, 'date_captured': ''}, {'id': 47, 'width': 1920, 'height': 1200, 'file_name': 'img048.jpg', 'license': 1, 'date_captured': ''}, {'id': 48, 'width': 1920, 'height': 1080, 'file_name': 'img049.jpg', 'license': 1, 'date_captured': ''}, {'id': 49, 'width': 390, 'height': 280, 'file_name': 'img050.jpg', 'license': 1, 'date_captured': ''}, {'id': 50, 'width': 390, 'height': 280, 'file_name': 'img051.jpg', 'license': 1, 'date_captured': ''}, {'id': 51, 'width': 390, 'height': 280, 'file_name': 'img052.jpg', 'license': 1, 'date_captured': ''}, {'id': 52, 'width': 390, 'height': 280, 'file_name': 'img053.jpg', 'license': 1, 'date_captured': ''}, {'id': 53, 'width': 390, 'height': 280, 'file_name': 'img054.jpg', 'license': 1, 'date_captured': ''}, {'id': 54, 'width': 390, 'height': 280, 'file_name': 'img055.jpg', 'license': 1, 'date_captured': ''}, {'id': 55, 'width': 390, 'height': 280, 'file_name': 'img056.jpg', 'license': 1, 'date_captured': ''}, {'id': 56, 'width': 390, 'height': 280, 'file_name': 'img057.jpg', 'license': 1, 'date_captured': ''}, {'id': 57, 'width': 390, 'height': 280, 'file_name': 'img058.jpg', 'license': 1, 'date_captured': ''}, {'id': 58, 'width': 390, 'height': 280, 'file_name': 'img059.jpg', 'license': 1, 'date_captured': ''}, {'id': 59, 'width': 390, 'height': 280, 'file_name': 'img060.jpg', 'license': 1, 'date_captured': ''}, {'id': 60, 'width': 390, 'height': 280, 'file_name': 'img061.jpg', 'license': 1, 'date_captured': ''}, {'id': 61, 'width': 471, 'height': 280, 'file_name': 'img062.jpg', 'license': 1, 'date_captured': ''}, {'id': 62, 'width': 390, 'height': 280, 'file_name': 'img063.jpg', 'license': 1, 'date_captured': ''}, {'id': 63, 'width': 195, 'height': 280, 'file_name': 'img064.jpg', 'license': 1, 'date_captured': ''}, {'id': 64, 'width': 390, 'height': 280, 'file_name': 'img065.jpg', 'license': 1, 'date_captured': ''}, {'id': 65, 'width': 390, 'height': 280, 'file_name': 'img066.jpg', 'license': 1, 'date_captured': ''}, {'id': 66, 'width': 390, 'height': 280, 'file_name': 'img067.jpg', 'license': 1, 'date_captured': ''}, {'id': 67, 'width': 347, 'height': 280, 'file_name': 'img068.jpg', 'license': 1, 'date_captured': ''}, {'id': 68, 'width': 390, 'height': 280, 'file_name': 'img069.jpg', 'license': 1, 'date_captured': ''}, {'id': 69, 'width': 390, 'height': 280, 'file_name': 'img070.jpg', 'license': 1, 'date_captured': ''}, {'id': 70, 'width': 389, 'height': 280, 'file_name': 'img071.jpg', 'license': 1, 'date_captured': ''}, {'id': 71, 'width': 389, 'height': 280, 'file_name': 'img072.jpg', 'license': 1, 'date_captured': ''}, {'id': 72, 'width': 390, 'height': 280, 'file_name': 'img073.jpg', 'license': 1, 'date_captured': ''}, {'id': 73, 'width': 390, 'height': 280, 'file_name': 'img074.jpg', 'license': 1, 'date_captured': ''}, {'id': 74, 'width': 390, 'height': 280, 'file_name': 'img075.jpg', 'license': 1, 'date_captured': ''}, {'id': 75, 'width': 409, 'height': 280, 'file_name': 'img076.jpg', 'license': 1, 'date_captured': ''}, {'id': 76, 'width': 401, 'height': 280, 'file_name': 'img077.jpg', 'license': 1, 'date_captured': ''}, {'id': 77, 'width': 347, 'height': 280, 'file_name': 'img078.jpg', 'license': 1, 'date_captured': ''}, {'id': 78, 'width': 347, 'height': 280, 'file_name': 'img079.jpg', 'license': 1, 'date_captured': ''}, {'id': 79, 'width': 390, 'height': 280, 'file_name': 'img080.jpg', 'license': 1, 'date_captured': ''}, {'id': 80, 'width': 390, 'height': 280, 'file_name': 'img081.jpg', 'license': 1, 'date_captured': ''}, {'id': 81, 'width': 390, 'height': 280, 'file_name': 'img082.jpg', 'license': 1, 'date_captured': ''}, {'id': 82, 'width': 390, 'height': 280, 'file_name': 'img083.jpg', 'license': 1, 'date_captured': ''}, {'id': 83, 'width': 390, 'height': 280, 'file_name': 'img084.jpg', 'license': 1, 'date_captured': ''}, {'id': 84, 'width': 462, 'height': 280, 'file_name': 'img085.jpg', 'license': 1, 'date_captured': ''}, {'id': 85, 'width': 462, 'height': 280, 'file_name': 'img086.jpg', 'license': 1, 'date_captured': ''}, {'id': 86, 'width': 347, 'height': 280, 'file_name': 'img087.jpg', 'license': 1, 'date_captured': ''}, {'id': 87, 'width': 347, 'height': 280, 'file_name': 'img088.jpg', 'license': 1, 'date_captured': ''}, {'id': 88, 'width': 390, 'height': 280, 'file_name': 'img089.jpg', 'license': 1, 'date_captured': ''}, {'id': 89, 'width': 390, 'height': 280, 'file_name': 'img090.jpg', 'license': 1, 'date_captured': ''}, {'id': 90, 'width': 389, 'height': 280, 'file_name': 'img091.jpg', 'license': 1, 'date_captured': ''}, {'id': 91, 'width': 347, 'height': 280, 'file_name': 'img092.jpg', 'license': 1, 'date_captured': ''}, {'id': 92, 'width': 347, 'height': 280, 'file_name': 'img093.jpg', 'license': 1, 'date_captured': ''}, {'id': 93, 'width': 390, 'height': 280, 'file_name': 'img094.jpg', 'license': 1, 'date_captured': ''}, {'id': 94, 'width': 1500, 'height': 1101, 'file_name': 'img095.jpg', 'license': 1, 'date_captured': ''}, {'id': 95, 'width': 1500, 'height': 1101, 'file_name': 'img096.jpg', 'license': 1, 'date_captured': ''}, {'id': 96, 'width': 1500, 'height': 1101, 'file_name': 'img097.jpg', 'license': 1, 'date_captured': ''}, {'id': 97, 'width': 1500, 'height': 1101, 'file_name': 'img098.jpg', 'license': 1, 'date_captured': ''}, {'id': 98, 'width': 1500, 'height': 1101, 'file_name': 'img099.jpg', 'license': 1, 'date_captured': ''}, {'id': 99, 'width': 1500, 'height': 1101, 'file_name': 'img100.jpg', 'license': 1, 'date_captured': ''}, {'id': 100, 'width': 1500, 'height': 1101, 'file_name': 'img101.jpg', 'license': 1, 'date_captured': ''}, {'id': 101, 'width': 1500, 'height': 1101, 'file_name': 'img102.jpg', 'license': 1, 'date_captured': ''}, {'id': 102, 'width': 1500, 'height': 1101, 'file_name': 'img103.jpg', 'license': 1, 'date_captured': ''}, {'id': 103, 'width': 1125, 'height': 1600, 'file_name': 'img104.jpg', 'license': 1, 'date_captured': ''}, {'id': 104, 'width': 1500, 'height': 1101, 'file_name': 'img105.jpg', 'license': 1, 'date_captured': ''}, {'id': 105, 'width': 1500, 'height': 1099, 'file_name': 'img106.jpg', 'license': 1, 'date_captured': ''}, {'id': 106, 'width': 1500, 'height': 1225, 'file_name': 'img107.jpg', 'license': 1, 'date_captured': ''}, {'id': 107, 'width': 1500, 'height': 1101, 'file_name': 'img108.jpg', 'license': 1, 'date_captured': ''}, {'id': 108, 'width': 1500, 'height': 1102, 'file_name': 'img109.jpg', 'license': 1, 'date_captured': ''}, {'id': 109, 'width': 1500, 'height': 1102, 'file_name': 'img110.jpg', 'license': 1, 'date_captured': ''}, {'id': 110, 'width': 1500, 'height': 1101, 'file_name': 'img111.jpg', 'license': 1, 'date_captured': ''}, {'id': 111, 'width': 1500, 'height': 1101, 'file_name': 'img112.jpg', 'license': 1, 'date_captured': ''}, {'id': 112, 'width': 1500, 'height': 1101, 'file_name': 'img113.jpg', 'license': 1, 'date_captured': ''}, {'id': 113, 'width': 1500, 'height': 1053, 'file_name': 'img114.jpg', 'license': 1, 'date_captured': ''}, {'id': 114, 'width': 1500, 'height': 1072, 'file_name': 'img115.jpg', 'license': 1, 'date_captured': ''}, {'id': 115, 'width': 1500, 'height': 1101, 'file_name': 'img116.jpg', 'license': 1, 'date_captured': ''}, {'id': 116, 'width': 1500, 'height': 1101, 'file_name': 'img117.jpg', 'license': 1, 'date_captured': ''}, {'id': 117, 'width': 1500, 'height': 1101, 'file_name': 'img118.jpg', 'license': 1, 'date_captured': ''}, {'id': 118, 'width': 1500, 'height': 945, 'file_name': 'img119.jpg', 'license': 1, 'date_captured': ''}, {'id': 119, 'width': 1500, 'height': 945, 'file_name': 'img120.jpg', 'license': 1, 'date_captured': ''}, {'id': 120, 'width': 1500, 'height': 1225, 'file_name': 'img121.jpg', 'license': 1, 'date_captured': ''}, {'id': 121, 'width': 1500, 'height': 1225, 'file_name': 'img122.jpg', 'license': 1, 'date_captured': ''}, {'id': 122, 'width': 1500, 'height': 1101, 'file_name': 'img123.jpg', 'license': 1, 'date_captured': ''}, {'id': 123, 'width': 1500, 'height': 1101, 'file_name': 'img124.jpg', 'license': 1, 'date_captured': ''}, {'id': 124, 'width': 1500, 'height': 1102, 'file_name': 'img125.jpg', 'license': 1, 'date_captured': ''}, {'id': 125, 'width': 1500, 'height': 1225, 'file_name': 'img126.jpg', 'license': 1, 'date_captured': ''}, {'id': 126, 'width': 1500, 'height': 1225, 'file_name': 'img127.jpg', 'license': 1, 'date_captured': ''}, {'id': 127, 'width': 1500, 'height': 1225, 'file_name': 'img128.jpg', 'license': 1, 'date_captured': ''}, {'id': 128, 'width': 1500, 'height': 1101, 'file_name': 'img129.jpg', 'license': 1, 'date_captured': ''}, {'id': 129, 'width': 1500, 'height': 1101, 'file_name': 'img130.jpg', 'license': 1, 'date_captured': ''}, {'id': 130, 'width': 1500, 'height': 1221, 'file_name': 'img131.jpg', 'license': 1, 'date_captured': ''}, {'id': 131, 'width': 1500, 'height': 1225, 'file_name': 'img132.jpg', 'license': 1, 'date_captured': ''}, {'id': 132, 'width': 1500, 'height': 1101, 'file_name': 'img133.jpg', 'license': 1, 'date_captured': ''}, {'id': 133, 'width': 1500, 'height': 1101, 'file_name': 'img134.jpg', 'license': 1, 'date_captured': ''}, {'id': 134, 'width': 1500, 'height': 1101, 'file_name': 'img135.jpg', 'license': 1, 'date_captured': ''}, {'id': 135, 'width': 1500, 'height': 1225, 'file_name': 'img136.jpg', 'license': 1, 'date_captured': ''}, {'id': 136, 'width': 1500, 'height': 1225, 'file_name': 'img137.jpg', 'license': 1, 'date_captured': ''}, {'id': 137, 'width': 1500, 'height': 1225, 'file_name': 'img138.jpg', 'license': 1, 'date_captured': ''}, {'id': 138, 'width': 1500, 'height': 1225, 'file_name': 'img139.jpg', 'license': 1, 'date_captured': ''}, {'id': 139, 'width': 1500, 'height': 1225, 'file_name': 'img140.jpg', 'license': 1, 'date_captured': ''}, {'id': 140, 'width': 1500, 'height': 1225, 'file_name': 'img141.jpg', 'license': 1, 'date_captured': ''}, {'id': 141, 'width': 1500, 'height': 1225, 'file_name': 'img142.jpg', 'license': 1, 'date_captured': ''}, {'id': 142, 'width': 1500, 'height': 1225, 'file_name': 'img143.jpg', 'license': 1, 'date_captured': ''}, {'id': 143, 'width': 1500, 'height': 1225, 'file_name': 'img144.jpg', 'license': 1, 'date_captured': ''}, {'id': 144, 'width': 1500, 'height': 1225, 'file_name': 'img145.jpg', 'license': 1, 'date_captured': ''}, {'id': 145, 'width': 1500, 'height': 1525, 'file_name': 'img146.jpg', 'license': 1, 'date_captured': ''}, {'id': 146, 'width': 1500, 'height': 928, 'file_name': 'img147.jpg', 'license': 1, 'date_captured': ''}, {'id': 147, 'width': 348, 'height': 280, 'file_name': 'img148.jpg', 'license': 1, 'date_captured': ''}, {'id': 148, 'width': 390, 'height': 280, 'file_name': 'img149.jpg', 'license': 1, 'date_captured': ''}, {'id': 149, 'width': 173, 'height': 280, 'file_name': 'img150.jpg', 'license': 1, 'date_captured': ''}, {'id': 150, 'width': 347, 'height': 280, 'file_name': 'img151.jpg', 'license': 1, 'date_captured': ''}, {'id': 151, 'width': 390, 'height': 280, 'file_name': 'img152.jpg', 'license': 1, 'date_captured': ''}, {'id': 152, 'width': 390, 'height': 280, 'file_name': 'img153.jpg', 'license': 1, 'date_captured': ''}, {'id': 153, 'width': 390, 'height': 280, 'file_name': 'img154.jpg', 'license': 1, 'date_captured': ''}, {'id': 154, 'width': 390, 'height': 280, 'file_name': 'img155.jpg', 'license': 1, 'date_captured': ''}, {'id': 155, 'width': 390, 'height': 280, 'file_name': 'img156.jpg', 'license': 1, 'date_captured': ''}, {'id': 156, 'width': 347, 'height': 280, 'file_name': 'img157.jpg', 'license': 1, 'date_captured': ''}, {'id': 157, 'width': 347, 'height': 280, 'file_name': 'img158.jpg', 'license': 1, 'date_captured': ''}, {'id': 158, 'width': 347, 'height': 280, 'file_name': 'img159.jpg', 'license': 1, 'date_captured': ''}, {'id': 159, 'width': 347, 'height': 280, 'file_name': 'img160.jpg', 'license': 1, 'date_captured': ''}, {'id': 160, 'width': 347, 'height': 280, 'file_name': 'img161.jpg', 'license': 1, 'date_captured': ''}, {'id': 161, 'width': 347, 'height': 280, 'file_name': 'img162.jpg', 'license': 1, 'date_captured': ''}, {'id': 162, 'width': 347, 'height': 280, 'file_name': 'img163.jpg', 'license': 1, 'date_captured': ''}, {'id': 163, 'width': 347, 'height': 280, 'file_name': 'img164.jpg', 'license': 1, 'date_captured': ''}, {'id': 164, 'width': 347, 'height': 280, 'file_name': 'img165.jpg', 'license': 1, 'date_captured': ''}, {'id': 165, 'width': 347, 'height': 280, 'file_name': 'img166.jpg', 'license': 1, 'date_captured': ''}, {'id': 166, 'width': 347, 'height': 280, 'file_name': 'img167.jpg', 'license': 1, 'date_captured': ''}, {'id': 167, 'width': 274, 'height': 280, 'file_name': 'img168.jpg', 'license': 1, 'date_captured': ''}, {'id': 168, 'width': 390, 'height': 280, 'file_name': 'img169.jpg', 'license': 1, 'date_captured': ''}, {'id': 169, 'width': 1024, 'height': 768, 'file_name': 'img170.jpg', 'license': 1, 'date_captured': ''}, {'id': 170, 'width': 1024, 'height': 768, 'file_name': 'img171.jpg', 'license': 1, 'date_captured': ''}, {'id': 171, 'width': 1280, 'height': 1024, 'file_name': 'img172.jpg', 'license': 1, 'date_captured': ''}, {'id': 172, 'width': 1920, 'height': 1080, 'file_name': 'img173.jpg', 'license': 1, 'date_captured': ''}, {'id': 173, 'width': 1500, 'height': 1500, 'file_name': 'img174.jpg', 'license': 1, 'date_captured': ''}, {'id': 174, 'width': 1280, 'height': 1024, 'file_name': 'img175.jpg', 'license': 1, 'date_captured': ''}, {'id': 175, 'width': 1920, 'height': 1080, 'file_name': 'img176.jpg', 'license': 1, 'date_captured': ''}, {'id': 176, 'width': 1280, 'height': 1024, 'file_name': 'img177.jpg', 'license': 1, 'date_captured': ''}, {'id': 177, 'width': 2880, 'height': 1800, 'file_name': 'img178.jpg', 'license': 1, 'date_captured': ''}, {'id': 178, 'width': 1920, 'height': 1080, 'file_name': 'img179.jpg', 'license': 1, 'date_captured': ''}, {'id': 179, 'width': 1920, 'height': 1080, 'file_name': 'img180.jpg', 'license': 1, 'date_captured': ''}, {'id': 180, 'width': 1600, 'height': 1200, 'file_name': 'img181.jpg', 'license': 1, 'date_captured': ''}, {'id': 181, 'width': 1920, 'height': 1200, 'file_name': 'img182.jpg', 'license': 1, 'date_captured': ''}, {'id': 182, 'width': 1024, 'height': 768, 'file_name': 'img183.jpg', 'license': 1, 'date_captured': ''}, {'id': 183, 'width': 1280, 'height': 1024, 'file_name': 'img184.jpg', 'license': 1, 'date_captured': ''}, {'id': 184, 'width': 1600, 'height': 900, 'file_name': 'img185.jpg', 'license': 1, 'date_captured': ''}, {'id': 185, 'width': 1480, 'height': 1093, 'file_name': 'img186.jpg', 'license': 1, 'date_captured': ''}, {'id': 186, 'width': 1227, 'height': 1600, 'file_name': 'img187.jpg', 'license': 1, 'date_captured': ''}, {'id': 187, 'width': 942, 'height': 850, 'file_name': 'img188.jpg', 'license': 1, 'date_captured': ''}, {'id': 188, 'width': 1920, 'height': 1080, 'file_name': 'img189.jpg', 'license': 1, 'date_captured': ''}, {'id': 189, 'width': 1024, 'height': 768, 'file_name': 'img190.jpg', 'license': 1, 'date_captured': ''}, {'id': 190, 'width': 1280, 'height': 1024, 'file_name': 'img191.jpg', 'license': 1, 'date_captured': ''}, {'id': 191, 'width': 1920, 'height': 1080, 'file_name': 'img192.jpg', 'license': 1, 'date_captured': ''}, {'id': 192, 'width': 1920, 'height': 1200, 'file_name': 'img193.jpg', 'license': 1, 'date_captured': ''}, {'id': 193, 'width': 1280, 'height': 720, 'file_name': 'img194.jpg', 'license': 1, 'date_captured': ''}, {'id': 194, 'width': 1920, 'height': 1200, 'file_name': 'img195.jpg', 'license': 1, 'date_captured': ''}, {'id': 195, 'width': 1024, 'height': 768, 'file_name': 'img196.jpg', 'license': 1, 'date_captured': ''}, {'id': 196, 'width': 1280, 'height': 720, 'file_name': 'img197.jpg', 'license': 1, 'date_captured': ''}, {'id': 197, 'width': 1920, 'height': 1080, 'file_name': 'img198.jpg', 'license': 1, 'date_captured': ''}, {'id': 198, 'width': 1600, 'height': 1416, 'file_name': 'img199.jpg', 'license': 1, 'date_captured': ''}, {'id': 199, 'width': 1600, 'height': 1000, 'file_name': 'img200.jpg', 'license': 1, 'date_captured': ''}, {'id': 200, 'width': 1024, 'height': 768, 'file_name': 'img201.jpg', 'license': 1, 'date_captured': ''}, {'id': 201, 'width': 1920, 'height': 1042, 'file_name': 'img202.jpg', 'license': 1, 'date_captured': ''}, {'id': 202, 'width': 1920, 'height': 1200, 'file_name': 'img203.jpg', 'license': 1, 'date_captured': ''}, {'id': 203, 'width': 1920, 'height': 1080, 'file_name': 'img204.jpg', 'license': 1, 'date_captured': ''}, {'id': 204, 'width': 1920, 'height': 1080, 'file_name': 'img205.jpg', 'license': 1, 'date_captured': ''}, {'id': 205, 'width': 1280, 'height': 1024, 'file_name': 'img206.jpg', 'license': 1, 'date_captured': ''}, {'id': 206, 'width': 1200, 'height': 1600, 'file_name': 'img207.jpg', 'license': 1, 'date_captured': ''}, {'id': 207, 'width': 1364, 'height': 872, 'file_name': 'img208.jpg', 'license': 1, 'date_captured': ''}, {'id': 208, 'width': 1920, 'height': 1200, 'file_name': 'img209.png', 'license': 1, 'date_captured': ''}, {'id': 209, 'width': 1920, 'height': 1080, 'file_name': 'img210.jpg', 'license': 1, 'date_captured': ''}, {'id': 210, 'width': 1600, 'height': 1200, 'file_name': 'img211.jpg', 'license': 1, 'date_captured': ''}, {'id': 211, 'width': 1920, 'height': 1200, 'file_name': 'img212.jpg', 'license': 1, 'date_captured': ''}, {'id': 212, 'width': 1920, 'height': 968, 'file_name': 'img213.jpg', 'license': 1, 'date_captured': ''}, {'id': 213, 'width': 1680, 'height': 1050, 'file_name': 'img214.png', 'license': 1, 'date_captured': ''}, {'id': 214, 'width': 1600, 'height': 1200, 'file_name': 'img215.jpg', 'license': 1, 'date_captured': ''}, {'id': 215, 'width': 1280, 'height': 1024, 'file_name': 'img216.jpg', 'license': 1, 'date_captured': ''}, {'id': 216, 'width': 1280, 'height': 1024, 'file_name': 'img217.jpg', 'license': 1, 'date_captured': ''}, {'id': 217, 'width': 1920, 'height': 1080, 'file_name': 'img218.jpg', 'license': 1, 'date_captured': ''}, {'id': 218, 'width': 1920, 'height': 1080, 'file_name': 'img219.jpg', 'license': 1, 'date_captured': ''}, {'id': 219, 'width': 1920, 'height': 1080, 'file_name': 'img220.jpg', 'license': 1, 'date_captured': ''}, {'id': 220, 'width': 1920, 'height': 1200, 'file_name': 'img221.jpg', 'license': 1, 'date_captured': ''}, {'id': 221, 'width': 1600, 'height': 1200, 'file_name': 'img222.jpg', 'license': 1, 'date_captured': ''}, {'id': 222, 'width': 900, 'height': 1600, 'file_name': 'img223.jpg', 'license': 1, 'date_captured': ''}, {'id': 223, 'width': 736, 'height': 1377, 'file_name': 'img224.jpg', 'license': 1, 'date_captured': ''}, {'id': 224, 'width': 1280, 'height': 1024, 'file_name': 'img225.jpg', 'license': 1, 'date_captured': ''}, {'id': 225, 'width': 1920, 'height': 1200, 'file_name': 'img226.jpg', 'license': 1, 'date_captured': ''}], [{'id': 0, 'image_id': '0', 'category_id': 1, 'segmentation': [973, 33, 1666, 33, 1666, 945, 973, 945], 'area': 632016, 'bbox': [973, 33, 693, 912], 'iscrowd': 0}, {'id': 1, 'image_id': '1', 'category_id': 1, 'segmentation': [658, 103, 1556, 103, 1556, 1029, 658, 1029], 'area': 831548, 'bbox': [658, 103, 898, 926], 'iscrowd': 0}, {'id': 2, 'image_id': '2', 'category_id': 1, 'segmentation': [759, 298, 1560, 298, 1560, 982, 759, 982], 'area': 547884, 'bbox': [759, 298, 801, 684], 'iscrowd': 0}, {'id': 3, 'image_id': '3', 'category_id': 1, 'segmentation': [1492, 128, 2728, 128, 2728, 1593, 1492, 1593], 'area': 1810740, 'bbox': [1492, 128, 1236, 1465], 'iscrowd': 0}, {'id': 4, 'image_id': '4', 'category_id': 1, 'segmentation': [700, 363, 1200, 363, 1200, 1184, 700, 1184], 'area': 410500, 'bbox': [700, 363, 500, 821], 'iscrowd': 0}, {'id': 5, 'image_id': '5', 'category_id': 1, 'segmentation': [853, 646, 1599, 646, 1599, 1562, 853, 1562], 'area': 683336, 'bbox': [853, 646, 746, 916], 'iscrowd': 0}, {'id': 6, 'image_id': '6', 'category_id': 1, 'segmentation': [861, 240, 1587, 240, 1587, 1059, 861, 1059], 'area': 594594, 'bbox': [861, 240, 726, 819], 'iscrowd': 0}, {'id': 7, 'image_id': '7', 'category_id': 1, 'segmentation': [832, 324, 1363, 324, 1363, 1164, 832, 1164], 'area': 446040, 'bbox': [832, 324, 531, 840], 'iscrowd': 0}, {'id': 8, 'image_id': '8', 'category_id': 1, 'segmentation': [1125, 339, 1578, 339, 1578, 862, 1125, 862], 'area': 236919, 'bbox': [1125, 339, 453, 523], 'iscrowd': 0}, {'id': 9, 'image_id': '9', 'category_id': 1, 'segmentation': [957, 56, 1708, 56, 1708, 1050, 957, 1050], 'area': 746494, 'bbox': [957, 56, 751, 994], 'iscrowd': 0}, {'id': 10, 'image_id': '10', 'category_id': 1, 'segmentation': [1094, 54, 1640, 54, 1640, 661, 1094, 661], 'area': 331422, 'bbox': [1094, 54, 546, 607], 'iscrowd': 0}, {'id': 11, 'image_id': '11', 'category_id': 1, 'segmentation': [624, 13, 1888, 13, 1888, 1156, 624, 1156], 'area': 1444752, 'bbox': [624, 13, 1264, 1143], 'iscrowd': 0}, {'id': 12, 'image_id': '12', 'category_id': 1, 'segmentation': [859, 56, 1906, 56, 1906, 989, 859, 989], 'area': 976851, 'bbox': [859, 56, 1047, 933], 'iscrowd': 0}, {'id': 13, 'image_id': '13', 'category_id': 1, 'segmentation': [35, 278, 1866, 278, 1866, 1062, 35, 1062], 'area': 1435504, 'bbox': [35, 278, 1831, 784], 'iscrowd': 0}, {'id': 14, 'image_id': '14', 'category_id': 1, 'segmentation': [989, 429, 1395, 429, 1395, 1068, 989, 1068], 'area': 259434, 'bbox': [989, 429, 406, 639], 'iscrowd': 0}, {'id': 15, 'image_id': '15', 'category_id': 1, 'segmentation': [635, 236, 1179, 236, 1179, 868, 635, 868], 'area': 343808, 'bbox': [635, 236, 544, 632], 'iscrowd': 0}, {'id': 16, 'image_id': '16', 'category_id': 1, 'segmentation': [567, 67, 1357, 67, 1357, 1129, 567, 1129], 'area': 838980, 'bbox': [567, 67, 790, 1062], 'iscrowd': 0}, {'id': 17, 'image_id': '17', 'category_id': 1, 'segmentation': [868, 67, 1360, 67, 1360, 855, 868, 855], 'area': 387696, 'bbox': [868, 67, 492, 788], 'iscrowd': 0}, {'id': 18, 'image_id': '18', 'category_id': 1, 'segmentation': [842, 298, 1078, 298, 1078, 583, 842, 583], 'area': 67260, 'bbox': [842, 298, 236, 285], 'iscrowd': 0}, {'id': 19, 'image_id': '19', 'category_id': 1, 'segmentation': [1000, 448, 1596, 448, 1596, 1186, 1000, 1186], 'area': 439848, 'bbox': [1000, 448, 596, 738], 'iscrowd': 0}, {'id': 20, 'image_id': '20', 'category_id': 1, 'segmentation': [985, 645, 1407, 645, 1407, 1142, 985, 1142], 'area': 209734, 'bbox': [985, 645, 422, 497], 'iscrowd': 0}, {'id': 21, 'image_id': '21', 'category_id': 1, 'segmentation': [79, 457, 985, 457, 985, 1404, 79, 1404], 'area': 857982, 'bbox': [79, 457, 906, 947], 'iscrowd': 0}, {'id': 22, 'image_id': '22', 'category_id': 1, 'segmentation': [600, 324, 1333, 324, 1333, 1052, 600, 1052], 'area': 533624, 'bbox': [600, 324, 733, 728], 'iscrowd': 0}, {'id': 23, 'image_id': '23', 'category_id': 1, 'segmentation': [954, 7, 1759, 7, 1759, 894, 954, 894], 'area': 714035, 'bbox': [954, 7, 805, 887], 'iscrowd': 0}, {'id': 24, 'image_id': '24', 'category_id': 1, 'segmentation': [37, 177, 905, 177, 905, 1050, 37, 1050], 'area': 757764, 'bbox': [37, 177, 868, 873], 'iscrowd': 0}, {'id': 25, 'image_id': '25', 'category_id': 1, 'segmentation': [411, 145, 1395, 145, 1395, 1032, 411, 1032], 'area': 872808, 'bbox': [411, 145, 984, 887], 'iscrowd': 0}, {'id': 26, 'image_id': '26', 'category_id': 1, 'segmentation': [35, 446, 448, 446, 448, 1029, 35, 1029], 'area': 240779, 'bbox': [35, 446, 413, 583], 'iscrowd': 0}, {'id': 27, 'image_id': '27', 'category_id': 1, 'segmentation': [16, 68, 681, 68, 681, 1048, 16, 1048], 'area': 651700, 'bbox': [16, 68, 665, 980], 'iscrowd': 0}, {'id': 28, 'image_id': '28', 'category_id': 1, 'segmentation': [37, 33, 1899, 33, 1899, 1045, 37, 1045], 'area': 1884344, 'bbox': [37, 33, 1862, 1012], 'iscrowd': 0}, {'id': 29, 'image_id': '29', 'category_id': 1, 'segmentation': [798, 487, 1145, 487, 1145, 909, 798, 909], 'area': 146434, 'bbox': [798, 487, 347, 422], 'iscrowd': 0}, {'id': 30, 'image_id': '30', 'category_id': 1, 'segmentation': [935, 409, 1635, 409, 1635, 1163, 935, 1163], 'area': 527800, 'bbox': [935, 409, 700, 754], 'iscrowd': 0}, {'id': 31, 'image_id': '31', 'category_id': 1, 'segmentation': [420, 184, 1167, 184, 1167, 1059, 420, 1059], 'area': 653625, 'bbox': [420, 184, 747, 875], 'iscrowd': 0}, {'id': 32, 'image_id': '32', 'category_id': 1, 'segmentation': [687, 311, 1343, 311, 1343, 1088, 687, 1088], 'area': 509712, 'bbox': [687, 311, 656, 777], 'iscrowd': 0}, {'id': 33, 'image_id': '33', 'category_id': 1, 'segmentation': [1099, 7, 1783, 7, 1783, 698, 1099, 698], 'area': 472644, 'bbox': [1099, 7, 684, 691], 'iscrowd': 0}, {'id': 34, 'image_id': '34', 'category_id': 1, 'segmentation': [1353, 412, 1449, 412, 1449, 500, 1353, 500], 'area': 8448, 'bbox': [1353, 412, 96, 88], 'iscrowd': 0}, {'id': 35, 'image_id': '35', 'category_id': 1, 'segmentation': [1109, 194, 1741, 194, 1741, 1171, 1109, 1171], 'area': 617464, 'bbox': [1109, 194, 632, 977], 'iscrowd': 0}, {'id': 36, 'image_id': '36', 'category_id': 1, 'segmentation': [451, 318, 1774, 318, 1774, 1795, 451, 1795], 'area': 1954071, 'bbox': [451, 318, 1323, 1477], 'iscrowd': 0}, {'id': 37, 'image_id': '37', 'category_id': 1, 'segmentation': [1239, 726, 1304, 726, 1304, 791, 1239, 791], 'area': 4225, 'bbox': [1239, 726, 65, 65], 'iscrowd': 0}, {'id': 38, 'image_id': '38', 'category_id': 1, 'segmentation': [1069, 237, 1749, 237, 1749, 455, 1069, 455], 'area': 148240, 'bbox': [1069, 237, 680, 218], 'iscrowd': 0}, {'id': 39, 'image_id': '39', 'category_id': 1, 'segmentation': [817, 252, 1274, 252, 1274, 859, 817, 859], 'area': 277399, 'bbox': [817, 252, 457, 607], 'iscrowd': 0}, {'id': 40, 'image_id': '40', 'category_id': 1, 'segmentation': [363, 10, 1345, 10, 1345, 679, 363, 679], 'area': 656958, 'bbox': [363, 10, 982, 669], 'iscrowd': 0}, {'id': 41, 'image_id': '41', 'category_id': 1, 'segmentation': [1549, 308, 1640, 308, 1640, 463, 1549, 463], 'area': 14105, 'bbox': [1549, 308, 91, 155], 'iscrowd': 0}, {'id': 42, 'image_id': '42', 'category_id': 1, 'segmentation': [1710, 360, 1827, 360, 1827, 448, 1710, 448], 'area': 10296, 'bbox': [1710, 360, 117, 88], 'iscrowd': 0}, {'id': 43, 'image_id': '43', 'category_id': 1, 'segmentation': [345, 565, 858, 565, 858, 1069, 345, 1069], 'area': 258552, 'bbox': [345, 565, 513, 504], 'iscrowd': 0}, {'id': 44, 'image_id': '44', 'category_id': 1, 'segmentation': [786, 435, 1199, 435, 1199, 943, 786, 943], 'area': 209804, 'bbox': [786, 435, 413, 508], 'iscrowd': 0}, {'id': 45, 'image_id': '45', 'category_id': 1, 'segmentation': [1075, 30, 1742, 30, 1742, 1033, 1075, 1033], 'area': 669001, 'bbox': [1075, 30, 667, 1003], 'iscrowd': 0}, {'id': 46, 'image_id': '46', 'category_id': 1, 'segmentation': [1817, 261, 1896, 261, 1896, 315, 1817, 315], 'area': 4266, 'bbox': [1817, 261, 79, 54], 'iscrowd': 0}, {'id': 47, 'image_id': '47', 'category_id': 1, 'segmentation': [692, 383, 1024, 383, 1024, 785, 692, 785], 'area': 133464, 'bbox': [692, 383, 332, 402], 'iscrowd': 0}, {'id': 48, 'image_id': '48', 'category_id': 1, 'segmentation': [1211, 644, 1356, 644, 1356, 819, 1211, 819], 'area': 25375, 'bbox': [1211, 644, 145, 175], 'iscrowd': 0}, {'id': 49, 'image_id': '49', 'category_id': 1, 'segmentation': [38, 16, 79, 16, 79, 62, 38, 62], 'area': 1886, 'bbox': [38, 16, 41, 46], 'iscrowd': 0}, {'id': 50, 'image_id': '50', 'category_id': 1, 'segmentation': [221, 52, 340, 52, 340, 233, 221, 233], 'area': 21539, 'bbox': [221, 52, 119, 181], 'iscrowd': 0}, {'id': 51, 'image_id': '51', 'category_id': 1, 'segmentation': [144, 151, 213, 151, 213, 249, 144, 249], 'area': 6762, 'bbox': [144, 151, 69, 98], 'iscrowd': 0}, {'id': 52, 'image_id': '52', 'category_id': 1, 'segmentation': [118, 145, 190, 145, 190, 241, 118, 241], 'area': 6912, 'bbox': [118, 145, 72, 96], 'iscrowd': 0}, {'id': 53, 'image_id': '53', 'category_id': 1, 'segmentation': [185, 21, 310, 21, 310, 165, 185, 165], 'area': 18000, 'bbox': [185, 21, 125, 144], 'iscrowd': 0}, {'id': 54, 'image_id': '54', 'category_id': 1, 'segmentation': [80, 3, 382, 3, 382, 253, 80, 253], 'area': 75500, 'bbox': [80, 3, 302, 250], 'iscrowd': 0}, {'id': 55, 'image_id': '55', 'category_id': 1, 'segmentation': [132, 107, 252, 107, 252, 244, 132, 244], 'area': 16440, 'bbox': [132, 107, 120, 137], 'iscrowd': 0}, {'id': 56, 'image_id': '56', 'category_id': 1, 'segmentation': [257, 25, 330, 25, 330, 60, 257, 60], 'area': 2555, 'bbox': [257, 25, 73, 35], 'iscrowd': 0}, {'id': 57, 'image_id': '57', 'category_id': 1, 'segmentation': [121, 80, 255, 80, 255, 242, 121, 242], 'area': 21708, 'bbox': [121, 80, 134, 162], 'iscrowd': 0}, {'id': 58, 'image_id': '58', 'category_id': 1, 'segmentation': [85, 30, 176, 30, 176, 74, 85, 74], 'area': 4004, 'bbox': [85, 30, 91, 44], 'iscrowd': 0}, {'id': 59, 'image_id': '59', 'category_id': 1, 'segmentation': [129, 30, 197, 30, 197, 76, 129, 76], 'area': 3128, 'bbox': [129, 30, 68, 46], 'iscrowd': 0}, {'id': 60, 'image_id': '60', 'category_id': 1, 'segmentation': [109, 19, 270, 19, 270, 249, 109, 249], 'area': 37030, 'bbox': [109, 19, 161, 230], 'iscrowd': 0}, {'id': 61, 'image_id': '61', 'category_id': 1, 'segmentation': [144, 81, 262, 81, 262, 197, 144, 197], 'area': 13688, 'bbox': [144, 81, 118, 116], 'iscrowd': 0}, {'id': 62, 'image_id': '62', 'category_id': 1, 'segmentation': [131, 86, 252, 86, 252, 251, 131, 251], 'area': 19965, 'bbox': [131, 86, 121, 165], 'iscrowd': 0}, {'id': 63, 'image_id': '63', 'category_id': 1, 'segmentation': [26, 38, 163, 38, 163, 184, 26, 184], 'area': 20002, 'bbox': [26, 38, 137, 146], 'iscrowd': 0}, {'id': 64, 'image_id': '64', 'category_id': 1, 'segmentation': [149, 72, 213, 72, 213, 207, 149, 207], 'area': 8640, 'bbox': [149, 72, 64, 135], 'iscrowd': 0}, {'id': 65, 'image_id': '65', 'category_id': 1, 'segmentation': [142, 122, 244, 122, 244, 251, 142, 251], 'area': 13158, 'bbox': [142, 122, 102, 129], 'iscrowd': 0}, {'id': 66, 'image_id': '66', 'category_id': 1, 'segmentation': [241, 132, 331, 132, 331, 239, 241, 239], 'area': 9630, 'bbox': [241, 132, 90, 107], 'iscrowd': 0}, {'id': 67, 'image_id': '67', 'category_id': 1, 'segmentation': [214, 107, 293, 107, 293, 213, 214, 213], 'area': 8374, 'bbox': [214, 107, 79, 106], 'iscrowd': 0}, {'id': 68, 'image_id': '68', 'category_id': 1, 'segmentation': [87, 12, 249, 12, 249, 233, 87, 233], 'area': 35802, 'bbox': [87, 12, 162, 221], 'iscrowd': 0}, {'id': 69, 'image_id': '69', 'category_id': 1, 'segmentation': [305, 60, 328, 60, 328, 90, 305, 90], 'area': 690, 'bbox': [305, 60, 23, 30], 'iscrowd': 0}, {'id': 70, 'image_id': '70', 'category_id': 1, 'segmentation': [41, 82, 163, 82, 163, 236, 41, 236], 'area': 18788, 'bbox': [41, 82, 122, 154], 'iscrowd': 0}, {'id': 71, 'image_id': '71', 'category_id': 1, 'segmentation': [237, 63, 327, 63, 327, 208, 237, 208], 'area': 13050, 'bbox': [237, 63, 90, 145], 'iscrowd': 0}, {'id': 72, 'image_id': '72', 'category_id': 1, 'segmentation': [81, 60, 284, 60, 284, 236, 81, 236], 'area': 35728, 'bbox': [81, 60, 203, 176], 'iscrowd': 0}, {'id': 73, 'image_id': '73', 'category_id': 1, 'segmentation': [295, 176, 333, 176, 333, 239, 295, 239], 'area': 2394, 'bbox': [295, 176, 38, 63], 'iscrowd': 0}, {'id': 74, 'image_id': '74', 'category_id': 1, 'segmentation': [235, 117, 260, 117, 260, 156, 235, 156], 'area': 975, 'bbox': [235, 117, 25, 39], 'iscrowd': 0}, {'id': 75, 'image_id': '75', 'category_id': 1, 'segmentation': [132, 31, 182, 31, 182, 67, 132, 67], 'area': 1800, 'bbox': [132, 31, 50, 36], 'iscrowd': 0}, {'id': 76, 'image_id': '76', 'category_id': 1, 'segmentation': [204, 219, 223, 219, 223, 250, 204, 250], 'area': 589, 'bbox': [204, 219, 19, 31], 'iscrowd': 0}, {'id': 77, 'image_id': '77', 'category_id': 1, 'segmentation': [9, 35, 116, 35, 116, 114, 9, 114], 'area': 8453, 'bbox': [9, 35, 107, 79], 'iscrowd': 0}, {'id': 78, 'image_id': '78', 'category_id': 1, 'segmentation': [156, 30, 247, 30, 247, 93, 156, 93], 'area': 5733, 'bbox': [156, 30, 91, 63], 'iscrowd': 0}, {'id': 79, 'image_id': '79', 'category_id': 1, 'segmentation': [14, 23, 176, 23, 176, 247, 14, 247], 'area': 36288, 'bbox': [14, 23, 162, 224], 'iscrowd': 0}, {'id': 80, 'image_id': '80', 'category_id': 1, 'segmentation': [295, 117, 324, 117, 324, 169, 295, 169], 'area': 1508, 'bbox': [295, 117, 29, 52], 'iscrowd': 0}, {'id': 81, 'image_id': '81', 'category_id': 1, 'segmentation': [96, 101, 109, 101, 109, 127, 96, 127], 'area': 338, 'bbox': [96, 101, 13, 26], 'iscrowd': 0}, {'id': 82, 'image_id': '82', 'category_id': 1, 'segmentation': [3, 148, 21, 148, 21, 179, 3, 179], 'area': 558, 'bbox': [3, 148, 18, 31], 'iscrowd': 0}, {'id': 83, 'image_id': '83', 'category_id': 1, 'segmentation': [213, 35, 352, 35, 352, 203, 213, 203], 'area': 23352, 'bbox': [213, 35, 139, 168], 'iscrowd': 0}, {'id': 84, 'image_id': '84', 'category_id': 1, 'segmentation': [259, 25, 362, 25, 362, 120, 259, 120], 'area': 9785, 'bbox': [259, 25, 103, 95], 'iscrowd': 0}, {'id': 85, 'image_id': '85', 'category_id': 1, 'segmentation': [270, 141, 297, 141, 297, 205, 270, 205], 'area': 1728, 'bbox': [270, 141, 27, 64], 'iscrowd': 0}, {'id': 86, 'image_id': '86', 'category_id': 1, 'segmentation': [240, 31, 283, 31, 283, 84, 240, 84], 'area': 2279, 'bbox': [240, 31, 43, 53], 'iscrowd': 0}, {'id': 87, 'image_id': '87', 'category_id': 1, 'segmentation': [192, 27, 312, 27, 312, 188, 192, 188], 'area': 19320, 'bbox': [192, 27, 120, 161], 'iscrowd': 0}, {'id': 88, 'image_id': '88', 'category_id': 1, 'segmentation': [92, 4, 377, 4, 377, 233, 92, 233], 'area': 65265, 'bbox': [92, 4, 285, 229], 'iscrowd': 0}, {'id': 89, 'image_id': '89', 'category_id': 1, 'segmentation': [192, 29, 230, 29, 230, 62, 192, 62], 'area': 1254, 'bbox': [192, 29, 38, 33], 'iscrowd': 0}, {'id': 90, 'image_id': '90', 'category_id': 1, 'segmentation': [156, 107, 244, 107, 244, 217, 156, 217], 'area': 9680, 'bbox': [156, 107, 88, 110], 'iscrowd': 0}, {'id': 91, 'image_id': '91', 'category_id': 1, 'segmentation': [286, 145, 343, 145, 343, 193, 286, 193], 'area': 2736, 'bbox': [286, 145, 57, 48], 'iscrowd': 0}, {'id': 92, 'image_id': '92', 'category_id': 1, 'segmentation': [40, 42, 156, 42, 156, 226, 40, 226], 'area': 21344, 'bbox': [40, 42, 116, 184], 'iscrowd': 0}, {'id': 93, 'image_id': '93', 'category_id': 1, 'segmentation': [102, 9, 254, 9, 254, 198, 102, 198], 'area': 28728, 'bbox': [102, 9, 152, 189], 'iscrowd': 0}, {'id': 94, 'image_id': '94', 'category_id': 1, 'segmentation': [811, 157, 1315, 157, 1315, 882, 811, 882], 'area': 365400, 'bbox': [811, 157, 504, 725], 'iscrowd': 0}, {'id': 95, 'image_id': '95', 'category_id': 1, 'segmentation': [542, 571, 823, 571, 823, 956, 542, 956], 'area': 108185, 'bbox': [542, 571, 281, 385], 'iscrowd': 0}, {'id': 96, 'image_id': '96', 'category_id': 1, 'segmentation': [487, 561, 732, 561, 732, 922, 487, 922], 'area': 88445, 'bbox': [487, 561, 245, 361], 'iscrowd': 0}, {'id': 97, 'image_id': '97', 'category_id': 1, 'segmentation': [590, 295, 951, 295, 951, 701, 590, 701], 'area': 146566, 'bbox': [590, 295, 361, 406], 'iscrowd': 0}, {'id': 98, 'image_id': '98', 'category_id': 1, 'segmentation': [1055, 492, 1145, 492, 1145, 627, 1055, 627], 'area': 12150, 'bbox': [1055, 492, 90, 135], 'iscrowd': 0}, {'id': 99, 'image_id': '99', 'category_id': 1, 'segmentation': [711, 86, 1213, 86, 1213, 652, 711, 652], 'area': 284132, 'bbox': [711, 86, 502, 566], 'iscrowd': 0}, {'id': 100, 'image_id': '100', 'category_id': 1, 'segmentation': [402, 50, 1431, 50, 1431, 1013, 402, 1013], 'area': 990927, 'bbox': [402, 50, 1029, 963], 'iscrowd': 0}, {'id': 101, 'image_id': '101', 'category_id': 1, 'segmentation': [442, 88, 1024, 88, 1024, 970, 442, 970], 'area': 513324, 'bbox': [442, 88, 582, 882], 'iscrowd': 0}, {'id': 102, 'image_id': '102', 'category_id': 1, 'segmentation': [535, 335, 1027, 335, 1027, 965, 535, 965], 'area': 309960, 'bbox': [535, 335, 492, 630], 'iscrowd': 0}, {'id': 103, 'image_id': '103', 'category_id': 1, 'segmentation': [759, 845, 1108, 845, 1108, 1428, 759, 1428], 'area': 203467, 'bbox': [759, 845, 349, 583], 'iscrowd': 0}, {'id': 104, 'image_id': '104', 'category_id': 1, 'segmentation': [540, 273, 818, 273, 818, 796, 540, 796], 'area': 145394, 'bbox': [540, 273, 278, 523], 'iscrowd': 0}, {'id': 105, 'image_id': '105', 'category_id': 1, 'segmentation': [560, 513, 954, 513, 954, 981, 560, 981], 'area': 184392, 'bbox': [560, 513, 394, 468], 'iscrowd': 0}, {'id': 106, 'image_id': '106', 'category_id': 1, 'segmentation': [913, 487, 1291, 487, 1291, 924, 913, 924], 'area': 165186, 'bbox': [913, 487, 378, 437], 'iscrowd': 0}, {'id': 107, 'image_id': '107', 'category_id': 1, 'segmentation': [345, 17, 930, 17, 930, 894, 345, 894], 'area': 513045, 'bbox': [345, 17, 585, 877], 'iscrowd': 0}, {'id': 108, 'image_id': '108', 'category_id': 1, 'segmentation': [124, 314, 626, 314, 626, 914, 124, 914], 'area': 301200, 'bbox': [124, 314, 502, 600], 'iscrowd': 0}, {'id': 109, 'image_id': '109', 'category_id': 1, 'segmentation': [912, 271, 1260, 271, 1260, 811, 912, 811], 'area': 187920, 'bbox': [912, 271, 348, 540], 'iscrowd': 0}, {'id': 110, 'image_id': '110', 'category_id': 1, 'segmentation': [209, 245, 1072, 245, 1072, 906, 209, 906], 'area': 570443, 'bbox': [209, 245, 863, 661], 'iscrowd': 0}, {'id': 111, 'image_id': '111', 'category_id': 1, 'segmentation': [670, 411, 972, 411, 972, 568, 670, 568], 'area': 47414, 'bbox': [670, 411, 302, 157], 'iscrowd': 0}, {'id': 112, 'image_id': '112', 'category_id': 1, 'segmentation': [906, 466, 1001, 466, 1001, 604, 906, 604], 'area': 13110, 'bbox': [906, 466, 95, 138], 'iscrowd': 0}, {'id': 113, 'image_id': '113', 'category_id': 1, 'segmentation': [484, 116, 682, 116, 682, 248, 484, 248], 'area': 26136, 'bbox': [484, 116, 198, 132], 'iscrowd': 0}, {'id': 114, 'image_id': '114', 'category_id': 1, 'segmentation': [576, 613, 636, 613, 636, 699, 576, 699], 'area': 5160, 'bbox': [576, 613, 60, 86], 'iscrowd': 0}, {'id': 115, 'image_id': '115', 'category_id': 1, 'segmentation': [820, 128, 1348, 128, 1348, 777, 820, 777], 'area': 342672, 'bbox': [820, 128, 528, 649], 'iscrowd': 0}, {'id': 116, 'image_id': '116', 'category_id': 1, 'segmentation': [694, 544, 820, 544, 820, 644, 694, 644], 'area': 12600, 'bbox': [694, 544, 126, 100], 'iscrowd': 0}, {'id': 117, 'image_id': '117', 'category_id': 1, 'segmentation': [7, 563, 104, 563, 104, 677, 7, 677], 'area': 11058, 'bbox': [7, 563, 97, 114], 'iscrowd': 0}, {'id': 118, 'image_id': '118', 'category_id': 1, 'segmentation': [869, 471, 981, 471, 981, 661, 869, 661], 'area': 21280, 'bbox': [869, 471, 112, 190], 'iscrowd': 0}, {'id': 119, 'image_id': '119', 'category_id': 1, 'segmentation': [812, 78, 1269, 78, 1269, 456, 812, 456], 'area': 172746, 'bbox': [812, 78, 457, 378], 'iscrowd': 0}, {'id': 120, 'image_id': '120', 'category_id': 1, 'segmentation': [685, 635, 833, 635, 833, 836, 685, 836], 'area': 29748, 'bbox': [685, 635, 148, 201], 'iscrowd': 0}, {'id': 121, 'image_id': '121', 'category_id': 1, 'segmentation': [794, 108, 1373, 108, 1373, 769, 794, 769], 'area': 382719, 'bbox': [794, 108, 579, 661], 'iscrowd': 0}, {'id': 122, 'image_id': '122', 'category_id': 1, 'segmentation': [392, 7, 1426, 7, 1426, 979, 392, 979], 'area': 1005048, 'bbox': [392, 7, 1034, 972], 'iscrowd': 0}, {'id': 123, 'image_id': '123', 'category_id': 1, 'segmentation': [582, 452, 870, 452, 870, 713, 582, 713], 'area': 75168, 'bbox': [582, 452, 288, 261], 'iscrowd': 0}, {'id': 124, 'image_id': '124', 'category_id': 1, 'segmentation': [619, 452, 929, 452, 929, 833, 619, 833], 'area': 118110, 'bbox': [619, 452, 310, 381], 'iscrowd': 0}, {'id': 125, 'image_id': '125', 'category_id': 1, 'segmentation': [833, 643, 1135, 643, 1135, 1027, 833, 1027], 'area': 115968, 'bbox': [833, 643, 302, 384], 'iscrowd': 0}, {'id': 126, 'image_id': '126', 'category_id': 1, 'segmentation': [294, 772, 342, 772, 342, 862, 294, 862], 'area': 4320, 'bbox': [294, 772, 48, 90], 'iscrowd': 0}, {'id': 127, 'image_id': '127', 'category_id': 1, 'segmentation': [1368, 378, 1487, 378, 1487, 436, 1368, 436], 'area': 6902, 'bbox': [1368, 378, 119, 58], 'iscrowd': 0}, {'id': 128, 'image_id': '128', 'category_id': 1, 'segmentation': [1350, 735, 1414, 735, 1414, 806, 1350, 806], 'area': 4544, 'bbox': [1350, 735, 64, 71], 'iscrowd': 0}, {'id': 129, 'image_id': '129', 'category_id': 1, 'segmentation': [547, 64, 958, 64, 958, 547, 547, 547], 'area': 198513, 'bbox': [547, 64, 411, 483], 'iscrowd': 0}, {'id': 130, 'image_id': '130', 'category_id': 1, 'segmentation': [311, 47, 1139, 47, 1139, 1067, 311, 1067], 'area': 844560, 'bbox': [311, 47, 828, 1020], 'iscrowd': 0}, {'id': 131, 'image_id': '131', 'category_id': 1, 'segmentation': [37, 19, 1479, 19, 1479, 1096, 37, 1096], 'area': 1553034, 'bbox': [37, 19, 1442, 1077], 'iscrowd': 0}, {'id': 132, 'image_id': '132', 'category_id': 1, 'segmentation': [590, 259, 932, 259, 932, 699, 590, 699], 'area': 150480, 'bbox': [590, 259, 342, 440], 'iscrowd': 0}, {'id': 133, 'image_id': '133', 'category_id': 1, 'segmentation': [392, 59, 924, 59, 924, 824, 392, 824], 'area': 406980, 'bbox': [392, 59, 532, 765], 'iscrowd': 0}, {'id': 134, 'image_id': '134', 'category_id': 1, 'segmentation': [31, 19, 1464, 19, 1464, 970, 31, 970], 'area': 1362783, 'bbox': [31, 19, 1433, 951], 'iscrowd': 0}, {'id': 135, 'image_id': '135', 'category_id': 1, 'segmentation': [759, 429, 1211, 429, 1211, 1053, 759, 1053], 'area': 282048, 'bbox': [759, 429, 452, 624], 'iscrowd': 0}, {'id': 136, 'image_id': '136', 'category_id': 1, 'segmentation': [418, 275, 1053, 275, 1053, 1005, 418, 1005], 'area': 463550, 'bbox': [418, 275, 635, 730], 'iscrowd': 0}, {'id': 137, 'image_id': '137', 'category_id': 1, 'segmentation': [767, 302, 1333, 302, 1333, 1043, 767, 1043], 'area': 419406, 'bbox': [767, 302, 566, 741], 'iscrowd': 0}, {'id': 138, 'image_id': '138', 'category_id': 1, 'segmentation': [270, 275, 820, 275, 820, 1061, 270, 1061], 'area': 432300, 'bbox': [270, 275, 550, 786], 'iscrowd': 0}, {'id': 139, 'image_id': '139', 'category_id': 1, 'segmentation': [582, 254, 1119, 254, 1119, 1061, 582, 1061], 'area': 433359, 'bbox': [582, 254, 537, 807], 'iscrowd': 0}, {'id': 140, 'image_id': '140', 'category_id': 1, 'segmentation': [140, 82, 706, 82, 706, 778, 140, 778], 'area': 393936, 'bbox': [140, 82, 566, 696], 'iscrowd': 0}, {'id': 141, 'image_id': '141', 'category_id': 1, 'segmentation': [783, 302, 1341, 302, 1341, 1037, 783, 1037], 'area': 410130, 'bbox': [783, 302, 558, 735], 'iscrowd': 0}, {'id': 142, 'image_id': '142', 'category_id': 1, 'segmentation': [563, 291, 1095, 291, 1095, 1005, 563, 1005], 'area': 379848, 'bbox': [563, 291, 532, 714], 'iscrowd': 0}, {'id': 143, 'image_id': '143', 'category_id': 1, 'segmentation': [381, 267, 1153, 267, 1153, 989, 381, 989], 'area': 557384, 'bbox': [381, 267, 772, 722], 'iscrowd': 0}, {'id': 144, 'image_id': '144', 'category_id': 1, 'segmentation': [984, 392, 1452, 392, 1452, 995, 984, 995], 'area': 282204, 'bbox': [984, 392, 468, 603], 'iscrowd': 0}, {'id': 145, 'image_id': '145', 'category_id': 1, 'segmentation': [115, 76, 1358, 76, 1358, 1250, 115, 1250], 'area': 1459282, 'bbox': [115, 76, 1243, 1174], 'iscrowd': 0}, {'id': 146, 'image_id': '146', 'category_id': 1, 'segmentation': [993, 186, 1404, 186, 1404, 675, 993, 675], 'area': 200979, 'bbox': [993, 186, 411, 489], 'iscrowd': 0}, {'id': 147, 'image_id': '147', 'category_id': 1, 'segmentation': [65, 13, 268, 13, 268, 252, 65, 252], 'area': 48517, 'bbox': [65, 13, 203, 239], 'iscrowd': 0}, {'id': 148, 'image_id': '148', 'category_id': 1, 'segmentation': [124, 31, 264, 31, 264, 207, 124, 207], 'area': 24640, 'bbox': [124, 31, 140, 176], 'iscrowd': 0}, {'id': 149, 'image_id': '149', 'category_id': 1, 'segmentation': [8, 16, 164, 16, 164, 250, 8, 250], 'area': 36504, 'bbox': [8, 16, 156, 234], 'iscrowd': 0}, {'id': 150, 'image_id': '150', 'category_id': 1, 'segmentation': [6, 7, 341, 7, 341, 252, 6, 252], 'area': 82075, 'bbox': [6, 7, 335, 245], 'iscrowd': 0}, {'id': 151, 'image_id': '151', 'category_id': 1, 'segmentation': [153, 64, 248, 64, 248, 191, 153, 191], 'area': 12065, 'bbox': [153, 64, 95, 127], 'iscrowd': 0}, {'id': 152, 'image_id': '152', 'category_id': 1, 'segmentation': [114, 173, 154, 173, 154, 228, 114, 228], 'area': 2200, 'bbox': [114, 173, 40, 55], 'iscrowd': 0}, {'id': 153, 'image_id': '153', 'category_id': 1, 'segmentation': [94, 12, 247, 12, 247, 223, 94, 223], 'area': 32283, 'bbox': [94, 12, 153, 211], 'iscrowd': 0}, {'id': 154, 'image_id': '154', 'category_id': 1, 'segmentation': [280, 60, 326, 60, 326, 102, 280, 102], 'area': 1932, 'bbox': [280, 60, 46, 42], 'iscrowd': 0}, {'id': 155, 'image_id': '155', 'category_id': 1, 'segmentation': [12, 10, 380, 10, 380, 249, 12, 249], 'area': 87952, 'bbox': [12, 10, 368, 239], 'iscrowd': 0}, {'id': 156, 'image_id': '156', 'category_id': 1, 'segmentation': [28, 12, 161, 12, 161, 181, 28, 181], 'area': 22477, 'bbox': [28, 12, 133, 169], 'iscrowd': 0}, {'id': 157, 'image_id': '157', 'category_id': 1, 'segmentation': [87, 66, 268, 66, 268, 230, 87, 230], 'area': 29684, 'bbox': [87, 66, 181, 164], 'iscrowd': 0}, {'id': 158, 'image_id': '158', 'category_id': 1, 'segmentation': [134, 60, 247, 60, 247, 235, 134, 235], 'area': 19775, 'bbox': [134, 60, 113, 175], 'iscrowd': 0}, {'id': 159, 'image_id': '159', 'category_id': 1, 'segmentation': [92, 57, 241, 57, 241, 236, 92, 236], 'area': 26671, 'bbox': [92, 57, 149, 179], 'iscrowd': 0}, {'id': 160, 'image_id': '160', 'category_id': 1, 'segmentation': [183, 92, 273, 92, 273, 245, 183, 245], 'area': 13770, 'bbox': [183, 92, 90, 153], 'iscrowd': 0}, {'id': 161, 'image_id': '161', 'category_id': 1, 'segmentation': [228, 82, 338, 82, 338, 246, 228, 246], 'area': 18040, 'bbox': [228, 82, 110, 164], 'iscrowd': 0}, {'id': 162, 'image_id': '162', 'category_id': 1, 'segmentation': [58, 52, 188, 52, 188, 248, 58, 248], 'area': 25480, 'bbox': [58, 52, 130, 196], 'iscrowd': 0}, {'id': 163, 'image_id': '163', 'category_id': 1, 'segmentation': [126, 55, 263, 55, 263, 245, 126, 245], 'area': 26030, 'bbox': [126, 55, 137, 190], 'iscrowd': 0}, {'id': 164, 'image_id': '164', 'category_id': 1, 'segmentation': [174, 65, 313, 65, 313, 241, 174, 241], 'area': 24464, 'bbox': [174, 65, 139, 176], 'iscrowd': 0}, {'id': 165, 'image_id': '165', 'category_id': 1, 'segmentation': [34, 58, 170, 58, 170, 244, 34, 244], 'area': 25296, 'bbox': [34, 58, 136, 186], 'iscrowd': 0}, {'id': 166, 'image_id': '166', 'category_id': 1, 'segmentation': [175, 65, 309, 65, 309, 243, 175, 243], 'area': 23852, 'bbox': [175, 65, 134, 178], 'iscrowd': 0}, {'id': 167, 'image_id': '167', 'category_id': 1, 'segmentation': [30, 5, 248, 5, 248, 237, 30, 237], 'area': 50576, 'bbox': [30, 5, 218, 232], 'iscrowd': 0}, {'id': 168, 'image_id': '168', 'category_id': 1, 'segmentation': [120, 8, 263, 8, 263, 146, 120, 146], 'area': 19734, 'bbox': [120, 8, 143, 138], 'iscrowd': 0}, {'id': 169, 'image_id': '169', 'category_id': 1, 'segmentation': [339, 317, 666, 317, 666, 695, 339, 695], 'area': 123606, 'bbox': [339, 317, 327, 378], 'iscrowd': 0}, {'id': 170, 'image_id': '170', 'category_id': 1, 'segmentation': [207, 266, 522, 266, 522, 729, 207, 729], 'area': 145845, 'bbox': [207, 266, 315, 463], 'iscrowd': 0}, {'id': 171, 'image_id': '171', 'category_id': 1, 'segmentation': [130, 352, 444, 352, 444, 752, 130, 752], 'area': 125600, 'bbox': [130, 352, 314, 400], 'iscrowd': 0}, {'id': 172, 'image_id': '172', 'category_id': 1, 'segmentation': [973, 9, 1652, 9, 1652, 968, 973, 968], 'area': 651161, 'bbox': [973, 9, 679, 959], 'iscrowd': 0}, {'id': 173, 'image_id': '173', 'category_id': 1, 'segmentation': [243, 91, 1241, 91, 1241, 1358, 243, 1358], 'area': 1264466, 'bbox': [243, 91, 998, 1267], 'iscrowd': 0}, {'id': 174, 'image_id': '174', 'category_id': 1, 'segmentation': [274, 128, 1214, 128, 1214, 968, 274, 968], 'area': 789600, 'bbox': [274, 128, 940, 840], 'iscrowd': 0}, {'id': 175, 'image_id': '175', 'category_id': 1, 'segmentation': [984, 427, 1374, 427, 1374, 1043, 984, 1043], 'area': 240240, 'bbox': [984, 427, 390, 616], 'iscrowd': 0}, {'id': 176, 'image_id': '176', 'category_id': 1, 'segmentation': [369, 137, 880, 137, 880, 659, 369, 659], 'area': 266742, 'bbox': [369, 137, 511, 522], 'iscrowd': 0}, {'id': 177, 'image_id': '177', 'category_id': 1, 'segmentation': [1306, 171, 2756, 171, 2756, 1582, 1306, 1582], 'area': 2045950, 'bbox': [1306, 171, 1450, 1411], 'iscrowd': 0}, {'id': 178, 'image_id': '178', 'category_id': 1, 'segmentation': [812, 61, 1701, 61, 1701, 1018, 812, 1018], 'area': 850773, 'bbox': [812, 61, 889, 957], 'iscrowd': 0}, {'id': 179, 'image_id': '179', 'category_id': 1, 'segmentation': [544, 2, 1466, 2, 1466, 1049, 544, 1049], 'area': 965334, 'bbox': [544, 2, 922, 1047], 'iscrowd': 0}, {'id': 180, 'image_id': '180', 'category_id': 1, 'segmentation': [755, 285, 1300, 285, 1300, 1079, 755, 1079], 'area': 432730, 'bbox': [755, 285, 545, 794], 'iscrowd': 0}, {'id': 181, 'image_id': '181', 'category_id': 1, 'segmentation': [321, 10, 1456, 10, 1456, 697, 321, 697], 'area': 779745, 'bbox': [321, 10, 1135, 687], 'iscrowd': 0}, {'id': 182, 'image_id': '182', 'category_id': 1, 'segmentation': [314, 156, 707, 156, 707, 750, 314, 750], 'area': 233442, 'bbox': [314, 156, 393, 594], 'iscrowd': 0}, {'id': 183, 'image_id': '183', 'category_id': 1, 'segmentation': [515, 515, 809, 515, 809, 771, 515, 771], 'area': 75264, 'bbox': [515, 515, 294, 256], 'iscrowd': 0}, {'id': 184, 'image_id': '184', 'category_id': 1, 'segmentation': [976, 49, 1586, 49, 1586, 700, 976, 700], 'area': 397110, 'bbox': [976, 49, 610, 651], 'iscrowd': 0}, {'id': 185, 'image_id': '185', 'category_id': 1, 'segmentation': [607, 356, 1072, 356, 1072, 963, 607, 963], 'area': 282255, 'bbox': [607, 356, 465, 607], 'iscrowd': 0}, {'id': 186, 'image_id': '186', 'category_id': 1, 'segmentation': [211, 76, 1044, 76, 1044, 1306, 211, 1306], 'area': 1024590, 'bbox': [211, 76, 833, 1230], 'iscrowd': 0}, {'id': 187, 'image_id': '187', 'category_id': 1, 'segmentation': [275, 219, 549, 219, 549, 676, 275, 676], 'area': 125218, 'bbox': [275, 219, 274, 457], 'iscrowd': 0}, {'id': 188, 'image_id': '188', 'category_id': 1, 'segmentation': [609, 217, 1141, 217, 1141, 884, 609, 884], 'area': 354844, 'bbox': [609, 217, 532, 667], 'iscrowd': 0}, {'id': 189, 'image_id': '189', 'category_id': 1, 'segmentation': [292, 206, 626, 206, 626, 676, 292, 676], 'area': 156980, 'bbox': [292, 206, 334, 470], 'iscrowd': 0}, {'id': 190, 'image_id': '190', 'category_id': 1, 'segmentation': [674, 318, 1145, 318, 1145, 822, 674, 822], 'area': 237384, 'bbox': [674, 318, 471, 504], 'iscrowd': 0}, {'id': 191, 'image_id': '191', 'category_id': 1, 'segmentation': [35, 163, 1873, 163, 1873, 1047, 35, 1047], 'area': 1624792, 'bbox': [35, 163, 1838, 884], 'iscrowd': 0}, {'id': 192, 'image_id': '192', 'category_id': 1, 'segmentation': [5, 127, 1303, 127, 1303, 1171, 5, 1171], 'area': 1355112, 'bbox': [5, 127, 1298, 1044], 'iscrowd': 0}, {'id': 193, 'image_id': '193', 'category_id': 1, 'segmentation': [737, 54, 1093, 54, 1093, 447, 737, 447], 'area': 139908, 'bbox': [737, 54, 356, 393], 'iscrowd': 0}, {'id': 194, 'image_id': '194', 'category_id': 1, 'segmentation': [909, 228, 1404, 228, 1404, 899, 909, 899], 'area': 332145, 'bbox': [909, 228, 495, 671], 'iscrowd': 0}, {'id': 195, 'image_id': '195', 'category_id': 1, 'segmentation': [221, 176, 729, 176, 729, 739, 221, 739], 'area': 286004, 'bbox': [221, 176, 508, 563], 'iscrowd': 0}, {'id': 196, 'image_id': '196', 'category_id': 1, 'segmentation': [485, 64, 808, 64, 808, 414, 485, 414], 'area': 113050, 'bbox': [485, 64, 323, 350], 'iscrowd': 0}, {'id': 197, 'image_id': '197', 'category_id': 1, 'segmentation': [285, 86, 1759, 86, 1759, 1049, 285, 1049], 'area': 1419462, 'bbox': [285, 86, 1474, 963], 'iscrowd': 0}, {'id': 198, 'image_id': '198', 'category_id': 1, 'segmentation': [606, 419, 1108, 419, 1108, 1150, 606, 1150], 'area': 366962, 'bbox': [606, 419, 502, 731], 'iscrowd': 0}, {'id': 199, 'image_id': '199', 'category_id': 1, 'segmentation': [490, 131, 1146, 131, 1146, 877, 490, 877], 'area': 489376, 'bbox': [490, 131, 656, 746], 'iscrowd': 0}, {'id': 200, 'image_id': '200', 'category_id': 1, 'segmentation': [537, 208, 958, 208, 958, 616, 537, 616], 'area': 171768, 'bbox': [537, 208, 421, 408], 'iscrowd': 0}, {'id': 201, 'image_id': '201', 'category_id': 1, 'segmentation': [1055, 61, 1656, 61, 1656, 627, 1055, 627], 'area': 340166, 'bbox': [1055, 61, 601, 566], 'iscrowd': 0}, {'id': 202, 'image_id': '202', 'category_id': 1, 'segmentation': [1329, 340, 1549, 340, 1549, 579, 1329, 579], 'area': 52580, 'bbox': [1329, 340, 220, 239], 'iscrowd': 0}, {'id': 203, 'image_id': '203', 'category_id': 1, 'segmentation': [791, 245, 1283, 245, 1283, 870, 791, 870], 'area': 307500, 'bbox': [791, 245, 492, 625], 'iscrowd': 0}, {'id': 204, 'image_id': '204', 'category_id': 1, 'segmentation': [154, 99, 1509, 99, 1509, 1053, 154, 1053], 'area': 1292670, 'bbox': [154, 99, 1355, 954], 'iscrowd': 0}, {'id': 205, 'image_id': '205', 'category_id': 1, 'segmentation': [550, 242, 1236, 242, 1236, 952, 550, 952], 'area': 487060, 'bbox': [550, 242, 686, 710], 'iscrowd': 0}, {'id': 206, 'image_id': '206', 'category_id': 1, 'segmentation': [516, 731, 1022, 731, 1022, 1369, 516, 1369], 'area': 322828, 'bbox': [516, 731, 506, 638], 'iscrowd': 0}, {'id': 207, 'image_id': '207', 'category_id': 1, 'segmentation': [106, 49, 1213, 49, 1213, 608, 106, 608], 'area': 618813, 'bbox': [106, 49, 1107, 559], 'iscrowd': 0}, {'id': 208, 'image_id': '208', 'category_id': 1, 'segmentation': [675, 345, 1022, 345, 1022, 790, 675, 790], 'area': 154415, 'bbox': [675, 345, 347, 445], 'iscrowd': 0}, {'id': 209, 'image_id': '209', 'category_id': 1, 'segmentation': [283, 477, 1621, 477, 1621, 1059, 283, 1059], 'area': 778716, 'bbox': [283, 477, 1338, 582], 'iscrowd': 0}, {'id': 210, 'image_id': '210', 'category_id': 1, 'segmentation': [881, 473, 1553, 473, 1553, 853, 881, 853], 'area': 255360, 'bbox': [881, 473, 672, 380], 'iscrowd': 0}, {'id': 211, 'image_id': '211', 'category_id': 1, 'segmentation': [563, 12, 1892, 12, 1892, 1111, 563, 1111], 'area': 1460571, 'bbox': [563, 12, 1329, 1099], 'iscrowd': 0}, {'id': 212, 'image_id': '212', 'category_id': 1, 'segmentation': [40, 131, 927, 131, 927, 935, 40, 935], 'area': 713148, 'bbox': [40, 131, 887, 804], 'iscrowd': 0}, {'id': 213, 'image_id': '213', 'category_id': 1, 'segmentation': [310, 53, 1336, 53, 1336, 849, 310, 849], 'area': 816696, 'bbox': [310, 53, 1026, 796], 'iscrowd': 0}, {'id': 214, 'image_id': '214', 'category_id': 1, 'segmentation': [19, 169, 1556, 169, 1556, 1139, 19, 1139], 'area': 1490890, 'bbox': [19, 169, 1537, 970], 'iscrowd': 0}, {'id': 215, 'image_id': '215', 'category_id': 1, 'segmentation': [338, 404, 624, 404, 624, 764, 338, 764], 'area': 102960, 'bbox': [338, 404, 286, 360], 'iscrowd': 0}, {'id': 216, 'image_id': '216', 'category_id': 1, 'segmentation': [418, 282, 816, 282, 816, 804, 418, 804], 'area': 207756, 'bbox': [418, 282, 398, 522], 'iscrowd': 0}, {'id': 217, 'image_id': '217', 'category_id': 1, 'segmentation': [728, 401, 1190, 401, 1190, 1068, 728, 1068], 'area': 308154, 'bbox': [728, 401, 462, 667], 'iscrowd': 0}, {'id': 218, 'image_id': '218', 'category_id': 1, 'segmentation': [498, 21, 1369, 21, 1369, 740, 498, 740], 'area': 626249, 'bbox': [498, 21, 871, 719], 'iscrowd': 0}, {'id': 219, 'image_id': '219', 'category_id': 1, 'segmentation': [433, 146, 1136, 146, 1136, 1003, 433, 1003], 'area': 602471, 'bbox': [433, 146, 703, 857], 'iscrowd': 0}, {'id': 220, 'image_id': '220', 'category_id': 1, 'segmentation': [49, 7, 1563, 7, 1563, 1179, 49, 1179], 'area': 1774408, 'bbox': [49, 7, 1514, 1172], 'iscrowd': 0}, {'id': 221, 'image_id': '221', 'category_id': 1, 'segmentation': [572, 440, 1050, 440, 1050, 1140, 572, 1140], 'area': 334600, 'bbox': [572, 440, 478, 700], 'iscrowd': 0}, {'id': 222, 'image_id': '222', 'category_id': 1, 'segmentation': [69, 388, 819, 388, 819, 1169, 69, 1169], 'area': 585750, 'bbox': [69, 388, 750, 781], 'iscrowd': 0}, {'id': 223, 'image_id': '223', 'category_id': 1, 'segmentation': [40, 274, 722, 274, 722, 1292, 40, 1292], 'area': 694276, 'bbox': [40, 274, 682, 1018], 'iscrowd': 0}, {'id': 224, 'image_id': '224', 'category_id': 1, 'segmentation': [776, 130, 1268, 130, 1268, 568, 776, 568], 'area': 215496, 'bbox': [776, 130, 492, 438], 'iscrowd': 0}, {'id': 225, 'image_id': '225', 'category_id': 1, 'segmentation': [987, 619, 1397, 619, 1397, 1156, 987, 1156], 'area': 220170, 'bbox': [987, 619, 410, 537], 'iscrowd': 0}], [{'id': 1, 'name': 'Unknown', 'url': ''}], [{'id': 1, 'name': 'doraemon', 'supercategory': 'class'}, {'id': 1, 'name': 'doraemon', 'supercategory': 'class'}, {'id': 1, 'name': 'doraemon', 'supercategory': 'class'}, {'id': 1, 'name': 'doraemon', 'supercategory': 'class'}, {'id': 1, 'name': 'doraemon', 'supercategory': 'class'}, {'id': 1, 'name': 'doraemon', 'supercategory': 'class'}, {'id': 1, 'name': 'doraemon', 'supercategory': 'class'}, {'id': 1, 'name': 'doraemon', 'supercategory': 'class'}, {'id': 1, 'name': 'doraemon', 'supercategory': 'class'}, {'id': 1, 'name': 'doraemon', 'supercategory': 'class'}, {'id': 1, 'name': 'doraemon', 'supercategory': 'class'}, {'id': 1, 'name': 'doraemon', 'supercategory': 'class'}, {'id': 1, 'name': 'doraemon', 'supercategory': 'class'}, {'id': 1, 'name': 'doraemon', 'supercategory': 'class'}, {'id': 1, 'name': 'doraemon', 'supercategory': 'class'}, {'id': 1, 'name': 'doraemon', 'supercategory': 'class'}, {'id': 1, 'name': 'doraemon', 'supercategory': 'class'}, {'id': 1, 'name': 'doraemon', 'supercategory': 'class'}, {'id': 1, 'name': 'doraemon', 'supercategory': 'class'}, {'id': 1, 'name': 'doraemon', 'supercategory': 'class'}, {'id': 1, 'name': 'doraemon', 'supercategory': 'class'}, {'id': 1, 'name': 'doraemon', 'supercategory': 'class'}, {'id': 1, 'name': 'doraemon', 'supercategory': 'class'}, {'id': 1, 'name': 'doraemon', 'supercategory': 'class'}, {'id': 1, 'name': 'doraemon', 'supercategory': 'class'}, {'id': 1, 'name': 'doraemon', 'supercategory': 'class'}, {'id': 1, 'name': 'doraemon', 'supercategory': 'class'}, {'id': 1, 'name': 'doraemon', 'supercategory': 'class'}, {'id': 1, 'name': 'doraemon', 'supercategory': 'class'}, {'id': 1, 'name': 'doraemon', 'supercategory': 'class'}, {'id': 1, 'name': 'doraemon', 'supercategory': 'class'}, {'id': 1, 'name': 'doraemon', 'supercategory': 'class'}, {'id': 1, 'name': 'doraemon', 'supercategory': 'class'}, {'id': 1, 'name': 'doraemon', 'supercategory': 'class'}, {'id': 1, 'name': 'doraemon', 'supercategory': 'class'}, {'id': 1, 'name': 'doraemon', 'supercategory': 'class'}, {'id': 1, 'name': 'doraemon', 'supercategory': 'class'}, {'id': 1, 'name': 'doraemon', 'supercategory': 'class'}, {'id': 1, 'name': 'doraemon', 'supercategory': 'class'}, {'id': 1, 'name': 'doraemon', 'supercategory': 'class'}, {'id': 1, 'name': 'doraemon', 'supercategory': 'class'}, {'id': 1, 'name': 'doraemon', 'supercategory': 'class'}, {'id': 1, 'name': 'doraemon', 'supercategory': 'class'}, {'id': 1, 'name': 'doraemon', 'supercategory': 'class'}, {'id': 1, 'name': 'doraemon', 'supercategory': 'class'}, {'id': 1, 'name': 'doraemon', 'supercategory': 'class'}, {'id': 1, 'name': 'doraemon', 'supercategory': 'class'}, {'id': 1, 'name': 'doraemon', 'supercategory': 'class'}, {'id': 1, 'name': 'doraemon', 'supercategory': 'class'}, {'id': 1, 'name': 'doraemon', 'supercategory': 'class'}, {'id': 1, 'name': 'doraemon', 'supercategory': 'class'}, {'id': 1, 'name': 'doraemon', 'supercategory': 'class'}, {'id': 1, 'name': 'doraemon', 'supercategory': 'class'}, {'id': 1, 'name': 'doraemon', 'supercategory': 'class'}, {'id': 1, 'name': 'doraemon', 'supercategory': 'class'}, {'id': 1, 'name': 'doraemon', 'supercategory': 'class'}, {'id': 1, 'name': 'doraemon', 'supercategory': 'class'}, {'id': 1, 'name': 'doraemon', 'supercategory': 'class'}, {'id': 1, 'name': 'doraemon', 'supercategory': 'class'}, {'id': 1, 'name': 'doraemon', 'supercategory': 'class'}, {'id': 1, 'name': 'doraemon', 'supercategory': 'class'}, {'id': 1, 'name': 'doraemon', 'supercategory': 'class'}, {'id': 1, 'name': 'doraemon', 'supercategory': 'class'}, {'id': 1, 'name': 'doraemon', 'supercategory': 'class'}, {'id': 1, 'name': 'doraemon', 'supercategory': 'class'}, {'id': 1, 'name': 'doraemon', 'supercategory': 'class'}, {'id': 1, 'name': 'doraemon', 'supercategory': 'class'}, {'id': 1, 'name': 'doraemon', 'supercategory': 'class'}, {'id': 1, 'name': 'doraemon', 'supercategory': 'class'}, {'id': 1, 'name': 'doraemon', 'supercategory': 'class'}, {'id': 1, 'name': 'doraemon', 'supercategory': 'class'}, {'id': 1, 'name': 'doraemon', 'supercategory': 'class'}, {'id': 1, 'name': 'doraemon', 'supercategory': 'class'}, {'id': 1, 'name': 'doraemon', 'supercategory': 'class'}, {'id': 1, 'name': 'doraemon', 'supercategory': 'class'}, {'id': 1, 'name': 'doraemon', 'supercategory': 'class'}, {'id': 1, 'name': 'doraemon', 'supercategory': 'class'}, {'id': 1, 'name': 'doraemon', 'supercategory': 'class'}, {'id': 1, 'name': 'doraemon', 'supercategory': 'class'}, {'id': 1, 'name': 'doraemon', 'supercategory': 'class'}, {'id': 1, 'name': 'doraemon', 'supercategory': 'class'}, {'id': 1, 'name': 'doraemon', 'supercategory': 'class'}, {'id': 1, 'name': 'doraemon', 'supercategory': 'class'}, {'id': 1, 'name': 'doraemon', 'supercategory': 'class'}, {'id': 1, 'name': 'doraemon', 'supercategory': 'class'}, {'id': 1, 'name': 'doraemon', 'supercategory': 'class'}, {'id': 1, 'name': 'doraemon', 'supercategory': 'class'}, {'id': 1, 'name': 'doraemon', 'supercategory': 'class'}, {'id': 1, 'name': 'doraemon', 'supercategory': 'class'}, {'id': 1, 'name': 'doraemon', 'supercategory': 'class'}, {'id': 1, 'name': 'doraemon', 'supercategory': 'class'}, {'id': 1, 'name': 'doraemon', 'supercategory': 'class'}, {'id': 1, 'name': 'doraemon', 'supercategory': 'class'}, {'id': 1, 'name': 'doraemon', 'supercategory': 'class'}, {'id': 1, 'name': 'doraemon', 'supercategory': 'class'}, {'id': 1, 'name': 'doraemon', 'supercategory': 'class'}, {'id': 1, 'name': 'doraemon', 'supercategory': 'class'}, {'id': 1, 'name': 'doraemon', 'supercategory': 'class'}, {'id': 1, 'name': 'doraemon', 'supercategory': 'class'}, {'id': 1, 'name': 'doraemon', 'supercategory': 'class'}, {'id': 1, 'name': 'doraemon', 'supercategory': 'class'}, {'id': 1, 'name': 'doraemon', 'supercategory': 'class'}, {'id': 1, 'name': 'doraemon', 'supercategory': 'class'}, {'id': 1, 'name': 'doraemon', 'supercategory': 'class'}, {'id': 1, 'name': 'doraemon', 'supercategory': 'class'}, {'id': 1, 'name': 'doraemon', 'supercategory': 'class'}, {'id': 1, 'name': 'doraemon', 'supercategory': 'class'}, {'id': 1, 'name': 'doraemon', 'supercategory': 'class'}, {'id': 1, 'name': 'doraemon', 'supercategory': 'class'}, {'id': 1, 'name': 'doraemon', 'supercategory': 'class'}, {'id': 1, 'name': 'doraemon', 'supercategory': 'class'}, {'id': 1, 'name': 'doraemon', 'supercategory': 'class'}, {'id': 1, 'name': 'doraemon', 'supercategory': 'class'}, {'id': 1, 'name': 'doraemon', 'supercategory': 'class'}, {'id': 1, 'name': 'doraemon', 'supercategory': 'class'}, {'id': 1, 'name': 'doraemon', 'supercategory': 'class'}, {'id': 1, 'name': 'doraemon', 'supercategory': 'class'}, {'id': 1, 'name': 'doraemon', 'supercategory': 'class'}, {'id': 1, 'name': 'doraemon', 'supercategory': 'class'}, {'id': 1, 'name': 'doraemon', 'supercategory': 'class'}, {'id': 1, 'name': 'doraemon', 'supercategory': 'class'}, {'id': 1, 'name': 'doraemon', 'supercategory': 'class'}, {'id': 1, 'name': 'doraemon', 'supercategory': 'class'}, {'id': 1, 'name': 'doraemon', 'supercategory': 'class'}, {'id': 1, 'name': 'doraemon', 'supercategory': 'class'}, {'id': 1, 'name': 'doraemon', 'supercategory': 'class'}, {'id': 1, 'name': 'doraemon', 'supercategory': 'class'}, {'id': 1, 'name': 'doraemon', 'supercategory': 'class'}, {'id': 1, 'name': 'doraemon', 'supercategory': 'class'}, {'id': 1, 'name': 'doraemon', 'supercategory': 'class'}, {'id': 1, 'name': 'doraemon', 'supercategory': 'class'}, {'id': 1, 'name': 'doraemon', 'supercategory': 'class'}, {'id': 1, 'name': 'doraemon', 'supercategory': 'class'}, {'id': 1, 'name': 'doraemon', 'supercategory': 'class'}, {'id': 1, 'name': 'doraemon', 'supercategory': 'class'}, {'id': 1, 'name': 'doraemon', 'supercategory': 'class'}, {'id': 1, 'name': 'doraemon', 'supercategory': 'class'}, {'id': 1, 'name': 'doraemon', 'supercategory': 'class'}, {'id': 1, 'name': 'doraemon', 'supercategory': 'class'}, {'id': 1, 'name': 'doraemon', 'supercategory': 'class'}, {'id': 1, 'name': 'doraemon', 'supercategory': 'class'}, {'id': 1, 'name': 'doraemon', 'supercategory': 'class'}, {'id': 1, 'name': 'doraemon', 'supercategory': 'class'}, {'id': 1, 'name': 'doraemon', 'supercategory': 'class'}, {'id': 1, 'name': 'doraemon', 'supercategory': 'class'}, {'id': 1, 'name': 'doraemon', 'supercategory': 'class'}, {'id': 1, 'name': 'doraemon', 'supercategory': 'class'}, {'id': 1, 'name': 'doraemon', 'supercategory': 'class'}, {'id': 1, 'name': 'doraemon', 'supercategory': 'class'}, {'id': 1, 'name': 'doraemon', 'supercategory': 'class'}, {'id': 1, 'name': 'doraemon', 'supercategory': 'class'}, {'id': 1, 'name': 'doraemon', 'supercategory': 'class'}, {'id': 1, 'name': 'doraemon', 'supercategory': 'class'}, {'id': 1, 'name': 'doraemon', 'supercategory': 'class'}, {'id': 1, 'name': 'doraemon', 'supercategory': 'class'}, {'id': 1, 'name': 'doraemon', 'supercategory': 'class'}, {'id': 1, 'name': 'doraemon', 'supercategory': 'class'}, {'id': 1, 'name': 'doraemon', 'supercategory': 'class'}, {'id': 1, 'name': 'doraemon', 'supercategory': 'class'}, {'id': 1, 'name': 'doraemon', 'supercategory': 'class'}, {'id': 1, 'name': 'doraemon', 'supercategory': 'class'}, {'id': 1, 'name': 'doraemon', 'supercategory': 'class'}, {'id': 1, 'name': 'doraemon', 'supercategory': 'class'}, {'id': 1, 'name': 'doraemon', 'supercategory': 'class'}, {'id': 1, 'name': 'doraemon', 'supercategory': 'class'}, {'id': 1, 'name': 'doraemon', 'supercategory': 'class'}, {'id': 1, 'name': 'doraemon', 'supercategory': 'class'}, {'id': 1, 'name': 'doraemon', 'supercategory': 'class'}, {'id': 1, 'name': 'doraemon', 'supercategory': 'class'}, {'id': 1, 'name': 'doraemon', 'supercategory': 'class'}, {'id': 1, 'name': 'doraemon', 'supercategory': 'class'}, {'id': 1, 'name': 'doraemon', 'supercategory': 'class'}, {'id': 1, 'name': 'doraemon', 'supercategory': 'class'}, {'id': 1, 'name': 'doraemon', 'supercategory': 'class'}, {'id': 1, 'name': 'doraemon', 'supercategory': 'class'}, {'id': 1, 'name': 'doraemon', 'supercategory': 'class'}, {'id': 1, 'name': 'doraemon', 'supercategory': 'class'}, {'id': 1, 'name': 'doraemon', 'supercategory': 'class'}, {'id': 1, 'name': 'doraemon', 'supercategory': 'class'}, {'id': 1, 'name': 'doraemon', 'supercategory': 'class'}, {'id': 1, 'name': 'doraemon', 'supercategory': 'class'}, {'id': 1, 'name': 'doraemon', 'supercategory': 'class'}, {'id': 1, 'name': 'doraemon', 'supercategory': 'class'}, {'id': 1, 'name': 'doraemon', 'supercategory': 'class'}, {'id': 1, 'name': 'doraemon', 'supercategory': 'class'}, {'id': 1, 'name': 'doraemon', 'supercategory': 'class'}, {'id': 1, 'name': 'doraemon', 'supercategory': 'class'}, {'id': 1, 'name': 'doraemon', 'supercategory': 'class'}, {'id': 1, 'name': 'doraemon', 'supercategory': 'class'}, {'id': 1, 'name': 'doraemon', 'supercategory': 'class'}, {'id': 1, 'name': 'doraemon', 'supercategory': 'class'}, {'id': 1, 'name': 'doraemon', 'supercategory': 'class'}, {'id': 1, 'name': 'doraemon', 'supercategory': 'class'}, {'id': 1, 'name': 'doraemon', 'supercategory': 'class'}, {'id': 1, 'name': 'doraemon', 'supercategory': 'class'}, {'id': 1, 'name': 'doraemon', 'supercategory': 'class'}, {'id': 1, 'name': 'doraemon', 'supercategory': 'class'}, {'id': 1, 'name': 'doraemon', 'supercategory': 'class'}, {'id': 1, 'name': 'doraemon', 'supercategory': 'class'}, {'id': 1, 'name': 'doraemon', 'supercategory': 'class'}, {'id': 1, 'name': 'doraemon', 'supercategory': 'class'}, {'id': 1, 'name': 'doraemon', 'supercategory': 'class'}, {'id': 1, 'name': 'doraemon', 'supercategory': 'class'}, {'id': 1, 'name': 'doraemon', 'supercategory': 'class'}, {'id': 1, 'name': 'doraemon', 'supercategory': 'class'}, {'id': 1, 'name': 'doraemon', 'supercategory': 'class'}, {'id': 1, 'name': 'doraemon', 'supercategory': 'class'}, {'id': 1, 'name': 'doraemon', 'supercategory': 'class'}, {'id': 1, 'name': 'doraemon', 'supercategory': 'class'}, {'id': 1, 'name': 'doraemon', 'supercategory': 'class'}, {'id': 1, 'name': 'doraemon', 'supercategory': 'class'}, {'id': 1, 'name': 'doraemon', 'supercategory': 'class'}, {'id': 1, 'name': 'doraemon', 'supercategory': 'class'}, {'id': 1, 'name': 'doraemon', 'supercategory': 'class'}, {'id': 1, 'name': 'doraemon', 'supercategory': 'class'}, {'id': 1, 'name': 'doraemon', 'supercategory': 'class'}, {'id': 1, 'name': 'doraemon', 'supercategory': 'class'}, {'id': 1, 'name': 'doraemon', 'supercategory': 'class'}, {'id': 1, 'name': 'doraemon', 'supercategory': 'class'}, {'id': 1, 'name': 'doraemon', 'supercategory': 'class'}, {'id': 1, 'name': 'doraemon', 'supercategory': 'class'}, {'id': 1, 'name': 'doraemon', 'supercategory': 'class'}, {'id': 1, 'name': 'doraemon', 'supercategory': 'class'}, {'id': 1, 'name': 'doraemon', 'supercategory': 'class'}, {'id': 1, 'name': 'doraemon', 'supercategory': 'class'}, {'id': 1, 'name': 'doraemon', 'supercategory': 'class'}]])"
            ]
          },
          "metadata": {
            "tags": []
          },
          "execution_count": 6
        }
      ]
    },
    {
      "cell_type": "code",
      "metadata": {
        "id": "2-z7LzYlZMjY",
        "colab_type": "code",
        "colab": {}
      },
      "source": [
        "images = pd.DataFrame(json_input['images'])\n",
        "annotations = pd.DataFrame(json_input['annotations'])"
      ],
      "execution_count": 0,
      "outputs": []
    },
    {
      "cell_type": "code",
      "metadata": {
        "id": "T6ttYIVkZOXr",
        "colab_type": "code",
        "outputId": "6eaa75d3-ece4-4b2c-e449-d308aa8c156f",
        "colab": {
          "base_uri": "https://localhost:8080/",
          "height": 201
        }
      },
      "source": [
        "images.tail()"
      ],
      "execution_count": 0,
      "outputs": [
        {
          "output_type": "execute_result",
          "data": {
            "text/html": [
              "<div>\n",
              "<style scoped>\n",
              "    .dataframe tbody tr th:only-of-type {\n",
              "        vertical-align: middle;\n",
              "    }\n",
              "\n",
              "    .dataframe tbody tr th {\n",
              "        vertical-align: top;\n",
              "    }\n",
              "\n",
              "    .dataframe thead th {\n",
              "        text-align: right;\n",
              "    }\n",
              "</style>\n",
              "<table border=\"1\" class=\"dataframe\">\n",
              "  <thead>\n",
              "    <tr style=\"text-align: right;\">\n",
              "      <th></th>\n",
              "      <th>id</th>\n",
              "      <th>width</th>\n",
              "      <th>height</th>\n",
              "      <th>file_name</th>\n",
              "      <th>license</th>\n",
              "      <th>date_captured</th>\n",
              "    </tr>\n",
              "  </thead>\n",
              "  <tbody>\n",
              "    <tr>\n",
              "      <th>221</th>\n",
              "      <td>221</td>\n",
              "      <td>1600</td>\n",
              "      <td>1200</td>\n",
              "      <td>img222.jpg</td>\n",
              "      <td>1</td>\n",
              "      <td></td>\n",
              "    </tr>\n",
              "    <tr>\n",
              "      <th>222</th>\n",
              "      <td>222</td>\n",
              "      <td>900</td>\n",
              "      <td>1600</td>\n",
              "      <td>img223.jpg</td>\n",
              "      <td>1</td>\n",
              "      <td></td>\n",
              "    </tr>\n",
              "    <tr>\n",
              "      <th>223</th>\n",
              "      <td>223</td>\n",
              "      <td>736</td>\n",
              "      <td>1377</td>\n",
              "      <td>img224.jpg</td>\n",
              "      <td>1</td>\n",
              "      <td></td>\n",
              "    </tr>\n",
              "    <tr>\n",
              "      <th>224</th>\n",
              "      <td>224</td>\n",
              "      <td>1280</td>\n",
              "      <td>1024</td>\n",
              "      <td>img225.jpg</td>\n",
              "      <td>1</td>\n",
              "      <td></td>\n",
              "    </tr>\n",
              "    <tr>\n",
              "      <th>225</th>\n",
              "      <td>225</td>\n",
              "      <td>1920</td>\n",
              "      <td>1200</td>\n",
              "      <td>img226.jpg</td>\n",
              "      <td>1</td>\n",
              "      <td></td>\n",
              "    </tr>\n",
              "  </tbody>\n",
              "</table>\n",
              "</div>"
            ],
            "text/plain": [
              "      id  width  height   file_name  license date_captured\n",
              "221  221   1600    1200  img222.jpg        1              \n",
              "222  222    900    1600  img223.jpg        1              \n",
              "223  223    736    1377  img224.jpg        1              \n",
              "224  224   1280    1024  img225.jpg        1              \n",
              "225  225   1920    1200  img226.jpg        1              "
            ]
          },
          "metadata": {
            "tags": []
          },
          "execution_count": 24
        }
      ]
    },
    {
      "cell_type": "code",
      "metadata": {
        "id": "rak0c8-JZQun",
        "colab_type": "code",
        "outputId": "4a86353a-0540-47f5-8810-09c6630f1892",
        "colab": {
          "base_uri": "https://localhost:8080/",
          "height": 201
        }
      },
      "source": [
        "annotations.tail()"
      ],
      "execution_count": 0,
      "outputs": [
        {
          "output_type": "execute_result",
          "data": {
            "text/html": [
              "<div>\n",
              "<style scoped>\n",
              "    .dataframe tbody tr th:only-of-type {\n",
              "        vertical-align: middle;\n",
              "    }\n",
              "\n",
              "    .dataframe tbody tr th {\n",
              "        vertical-align: top;\n",
              "    }\n",
              "\n",
              "    .dataframe thead th {\n",
              "        text-align: right;\n",
              "    }\n",
              "</style>\n",
              "<table border=\"1\" class=\"dataframe\">\n",
              "  <thead>\n",
              "    <tr style=\"text-align: right;\">\n",
              "      <th></th>\n",
              "      <th>id</th>\n",
              "      <th>image_id</th>\n",
              "      <th>category_id</th>\n",
              "      <th>segmentation</th>\n",
              "      <th>area</th>\n",
              "      <th>bbox</th>\n",
              "      <th>iscrowd</th>\n",
              "    </tr>\n",
              "  </thead>\n",
              "  <tbody>\n",
              "    <tr>\n",
              "      <th>221</th>\n",
              "      <td>221</td>\n",
              "      <td>221</td>\n",
              "      <td>1</td>\n",
              "      <td>[572, 440, 1050, 440, 1050, 1140, 572, 1140]</td>\n",
              "      <td>334600</td>\n",
              "      <td>[572, 440, 478, 700]</td>\n",
              "      <td>0</td>\n",
              "    </tr>\n",
              "    <tr>\n",
              "      <th>222</th>\n",
              "      <td>222</td>\n",
              "      <td>222</td>\n",
              "      <td>1</td>\n",
              "      <td>[69, 388, 819, 388, 819, 1169, 69, 1169]</td>\n",
              "      <td>585750</td>\n",
              "      <td>[69, 388, 750, 781]</td>\n",
              "      <td>0</td>\n",
              "    </tr>\n",
              "    <tr>\n",
              "      <th>223</th>\n",
              "      <td>223</td>\n",
              "      <td>223</td>\n",
              "      <td>1</td>\n",
              "      <td>[40, 274, 722, 274, 722, 1292, 40, 1292]</td>\n",
              "      <td>694276</td>\n",
              "      <td>[40, 274, 682, 1018]</td>\n",
              "      <td>0</td>\n",
              "    </tr>\n",
              "    <tr>\n",
              "      <th>224</th>\n",
              "      <td>224</td>\n",
              "      <td>224</td>\n",
              "      <td>1</td>\n",
              "      <td>[776, 130, 1268, 130, 1268, 568, 776, 568]</td>\n",
              "      <td>215496</td>\n",
              "      <td>[776, 130, 492, 438]</td>\n",
              "      <td>0</td>\n",
              "    </tr>\n",
              "    <tr>\n",
              "      <th>225</th>\n",
              "      <td>225</td>\n",
              "      <td>225</td>\n",
              "      <td>1</td>\n",
              "      <td>[987, 619, 1397, 619, 1397, 1156, 987, 1156]</td>\n",
              "      <td>220170</td>\n",
              "      <td>[987, 619, 410, 537]</td>\n",
              "      <td>0</td>\n",
              "    </tr>\n",
              "  </tbody>\n",
              "</table>\n",
              "</div>"
            ],
            "text/plain": [
              "      id image_id  category_id  ...    area                  bbox iscrowd\n",
              "221  221      221            1  ...  334600  [572, 440, 478, 700]       0\n",
              "222  222      222            1  ...  585750   [69, 388, 750, 781]       0\n",
              "223  223      223            1  ...  694276  [40, 274, 682, 1018]       0\n",
              "224  224      224            1  ...  215496  [776, 130, 492, 438]       0\n",
              "225  225      225            1  ...  220170  [987, 619, 410, 537]       0\n",
              "\n",
              "[5 rows x 7 columns]"
            ]
          },
          "metadata": {
            "tags": []
          },
          "execution_count": 25
        }
      ]
    },
    {
      "cell_type": "code",
      "metadata": {
        "id": "WrH8mDU3ZVXV",
        "colab_type": "code",
        "outputId": "ab6726f6-91d2-431e-d089-08415f60703e",
        "colab": {
          "base_uri": "https://localhost:8080/",
          "height": 50
        }
      },
      "source": [
        "bb_x = []\n",
        "bb_y = []\n",
        "bb_x1 = []\n",
        "bb_y1 = []\n",
        "bb_width = []\n",
        "bb_height = []\n",
        "bb_list = list(annotations['bbox'])\n",
        "print(len(bb_list))\n",
        "print(bb_list[0])"
      ],
      "execution_count": 0,
      "outputs": [
        {
          "output_type": "stream",
          "text": [
            "226\n",
            "[973, 33, 693, 912]\n"
          ],
          "name": "stdout"
        }
      ]
    },
    {
      "cell_type": "code",
      "metadata": {
        "id": "meA9wnswaI0t",
        "colab_type": "code",
        "colab": {}
      },
      "source": [
        "for i in bb_list:  \n",
        "  bb_x.append(i[0])             # Existing x - top left from VGG annotator\n",
        "  bb_y.append(i[1])             # Existing y - top left from VGG annotator\n",
        "  bb_x1.append(i[0]+(i[2]/2))   # New x for YOLO - Image center\n",
        "  bb_y1.append(i[1]+(i[3]/2))   # New y for YOLO - Image center\n",
        "  bb_width.append(i[2])\n",
        "  bb_height.append(i[3])\n",
        "annotations['bb_x'] = bb_x\n",
        "annotations['bb_y'] = bb_y\n",
        "annotations['bb_x1'] = bb_x1\n",
        "annotations['bb_y1'] = bb_y1\n",
        "annotations['bb_width'] = bb_width\n",
        "annotations['bb_height'] = bb_height  "
      ],
      "execution_count": 0,
      "outputs": []
    },
    {
      "cell_type": "code",
      "metadata": {
        "id": "y3_uNJUgaNqf",
        "colab_type": "code",
        "outputId": "c7f49c16-fbbf-4be2-8cf1-31b284413c4a",
        "colab": {
          "base_uri": "https://localhost:8080/",
          "height": 218
        }
      },
      "source": [
        "annotations.head()"
      ],
      "execution_count": 0,
      "outputs": [
        {
          "output_type": "execute_result",
          "data": {
            "text/html": [
              "<div>\n",
              "<style scoped>\n",
              "    .dataframe tbody tr th:only-of-type {\n",
              "        vertical-align: middle;\n",
              "    }\n",
              "\n",
              "    .dataframe tbody tr th {\n",
              "        vertical-align: top;\n",
              "    }\n",
              "\n",
              "    .dataframe thead th {\n",
              "        text-align: right;\n",
              "    }\n",
              "</style>\n",
              "<table border=\"1\" class=\"dataframe\">\n",
              "  <thead>\n",
              "    <tr style=\"text-align: right;\">\n",
              "      <th></th>\n",
              "      <th>id</th>\n",
              "      <th>image_id</th>\n",
              "      <th>category_id</th>\n",
              "      <th>segmentation</th>\n",
              "      <th>area</th>\n",
              "      <th>bbox</th>\n",
              "      <th>iscrowd</th>\n",
              "      <th>bb_x</th>\n",
              "      <th>bb_y</th>\n",
              "      <th>bb_x1</th>\n",
              "      <th>bb_y1</th>\n",
              "      <th>bb_width</th>\n",
              "      <th>bb_height</th>\n",
              "    </tr>\n",
              "  </thead>\n",
              "  <tbody>\n",
              "    <tr>\n",
              "      <th>0</th>\n",
              "      <td>0</td>\n",
              "      <td>0</td>\n",
              "      <td>1</td>\n",
              "      <td>[973, 33, 1666, 33, 1666, 945, 973, 945]</td>\n",
              "      <td>632016</td>\n",
              "      <td>[973, 33, 693, 912]</td>\n",
              "      <td>0</td>\n",
              "      <td>973</td>\n",
              "      <td>33</td>\n",
              "      <td>1319.5</td>\n",
              "      <td>489.0</td>\n",
              "      <td>693</td>\n",
              "      <td>912</td>\n",
              "    </tr>\n",
              "    <tr>\n",
              "      <th>1</th>\n",
              "      <td>1</td>\n",
              "      <td>1</td>\n",
              "      <td>1</td>\n",
              "      <td>[658, 103, 1556, 103, 1556, 1029, 658, 1029]</td>\n",
              "      <td>831548</td>\n",
              "      <td>[658, 103, 898, 926]</td>\n",
              "      <td>0</td>\n",
              "      <td>658</td>\n",
              "      <td>103</td>\n",
              "      <td>1107.0</td>\n",
              "      <td>566.0</td>\n",
              "      <td>898</td>\n",
              "      <td>926</td>\n",
              "    </tr>\n",
              "    <tr>\n",
              "      <th>2</th>\n",
              "      <td>2</td>\n",
              "      <td>2</td>\n",
              "      <td>1</td>\n",
              "      <td>[759, 298, 1560, 298, 1560, 982, 759, 982]</td>\n",
              "      <td>547884</td>\n",
              "      <td>[759, 298, 801, 684]</td>\n",
              "      <td>0</td>\n",
              "      <td>759</td>\n",
              "      <td>298</td>\n",
              "      <td>1159.5</td>\n",
              "      <td>640.0</td>\n",
              "      <td>801</td>\n",
              "      <td>684</td>\n",
              "    </tr>\n",
              "    <tr>\n",
              "      <th>3</th>\n",
              "      <td>3</td>\n",
              "      <td>3</td>\n",
              "      <td>1</td>\n",
              "      <td>[1492, 128, 2728, 128, 2728, 1593, 1492, 1593]</td>\n",
              "      <td>1810740</td>\n",
              "      <td>[1492, 128, 1236, 1465]</td>\n",
              "      <td>0</td>\n",
              "      <td>1492</td>\n",
              "      <td>128</td>\n",
              "      <td>2110.0</td>\n",
              "      <td>860.5</td>\n",
              "      <td>1236</td>\n",
              "      <td>1465</td>\n",
              "    </tr>\n",
              "    <tr>\n",
              "      <th>4</th>\n",
              "      <td>4</td>\n",
              "      <td>4</td>\n",
              "      <td>1</td>\n",
              "      <td>[700, 363, 1200, 363, 1200, 1184, 700, 1184]</td>\n",
              "      <td>410500</td>\n",
              "      <td>[700, 363, 500, 821]</td>\n",
              "      <td>0</td>\n",
              "      <td>700</td>\n",
              "      <td>363</td>\n",
              "      <td>950.0</td>\n",
              "      <td>773.5</td>\n",
              "      <td>500</td>\n",
              "      <td>821</td>\n",
              "    </tr>\n",
              "  </tbody>\n",
              "</table>\n",
              "</div>"
            ],
            "text/plain": [
              "   id image_id  category_id  ...  bb_y1  bb_width bb_height\n",
              "0   0        0            1  ...  489.0       693       912\n",
              "1   1        1            1  ...  566.0       898       926\n",
              "2   2        2            1  ...  640.0       801       684\n",
              "3   3        3            1  ...  860.5      1236      1465\n",
              "4   4        4            1  ...  773.5       500       821\n",
              "\n",
              "[5 rows x 13 columns]"
            ]
          },
          "metadata": {
            "tags": []
          },
          "execution_count": 34
        }
      ]
    },
    {
      "cell_type": "code",
      "metadata": {
        "id": "tQSS1vXnZg9P",
        "colab_type": "code",
        "colab": {}
      },
      "source": [
        "df_input = pd.merge(images, annotations, how='inner',on='id')"
      ],
      "execution_count": 0,
      "outputs": []
    },
    {
      "cell_type": "code",
      "metadata": {
        "id": "gMDchresZy3i",
        "colab_type": "code",
        "outputId": "d83a942d-92ed-4e42-89cf-342bff121ad6",
        "colab": {
          "base_uri": "https://localhost:8080/",
          "height": 474
        }
      },
      "source": [
        "df_input.tail()"
      ],
      "execution_count": 0,
      "outputs": [
        {
          "output_type": "execute_result",
          "data": {
            "text/html": [
              "<div>\n",
              "<style scoped>\n",
              "    .dataframe tbody tr th:only-of-type {\n",
              "        vertical-align: middle;\n",
              "    }\n",
              "\n",
              "    .dataframe tbody tr th {\n",
              "        vertical-align: top;\n",
              "    }\n",
              "\n",
              "    .dataframe thead th {\n",
              "        text-align: right;\n",
              "    }\n",
              "</style>\n",
              "<table border=\"1\" class=\"dataframe\">\n",
              "  <thead>\n",
              "    <tr style=\"text-align: right;\">\n",
              "      <th></th>\n",
              "      <th>id</th>\n",
              "      <th>width</th>\n",
              "      <th>height</th>\n",
              "      <th>file_name</th>\n",
              "      <th>license</th>\n",
              "      <th>date_captured</th>\n",
              "      <th>image_id</th>\n",
              "      <th>category_id</th>\n",
              "      <th>segmentation</th>\n",
              "      <th>area</th>\n",
              "      <th>bbox</th>\n",
              "      <th>iscrowd</th>\n",
              "      <th>bb_x</th>\n",
              "      <th>bb_y</th>\n",
              "      <th>bb_x1</th>\n",
              "      <th>bb_y1</th>\n",
              "      <th>bb_width</th>\n",
              "      <th>bb_height</th>\n",
              "    </tr>\n",
              "  </thead>\n",
              "  <tbody>\n",
              "    <tr>\n",
              "      <th>221</th>\n",
              "      <td>221</td>\n",
              "      <td>1600</td>\n",
              "      <td>1200</td>\n",
              "      <td>img222.jpg</td>\n",
              "      <td>1</td>\n",
              "      <td></td>\n",
              "      <td>221</td>\n",
              "      <td>1</td>\n",
              "      <td>[572, 440, 1050, 440, 1050, 1140, 572, 1140]</td>\n",
              "      <td>334600</td>\n",
              "      <td>[572, 440, 478, 700]</td>\n",
              "      <td>0</td>\n",
              "      <td>572</td>\n",
              "      <td>440</td>\n",
              "      <td>811.0</td>\n",
              "      <td>790.0</td>\n",
              "      <td>478</td>\n",
              "      <td>700</td>\n",
              "    </tr>\n",
              "    <tr>\n",
              "      <th>222</th>\n",
              "      <td>222</td>\n",
              "      <td>900</td>\n",
              "      <td>1600</td>\n",
              "      <td>img223.jpg</td>\n",
              "      <td>1</td>\n",
              "      <td></td>\n",
              "      <td>222</td>\n",
              "      <td>1</td>\n",
              "      <td>[69, 388, 819, 388, 819, 1169, 69, 1169]</td>\n",
              "      <td>585750</td>\n",
              "      <td>[69, 388, 750, 781]</td>\n",
              "      <td>0</td>\n",
              "      <td>69</td>\n",
              "      <td>388</td>\n",
              "      <td>444.0</td>\n",
              "      <td>778.5</td>\n",
              "      <td>750</td>\n",
              "      <td>781</td>\n",
              "    </tr>\n",
              "    <tr>\n",
              "      <th>223</th>\n",
              "      <td>223</td>\n",
              "      <td>736</td>\n",
              "      <td>1377</td>\n",
              "      <td>img224.jpg</td>\n",
              "      <td>1</td>\n",
              "      <td></td>\n",
              "      <td>223</td>\n",
              "      <td>1</td>\n",
              "      <td>[40, 274, 722, 274, 722, 1292, 40, 1292]</td>\n",
              "      <td>694276</td>\n",
              "      <td>[40, 274, 682, 1018]</td>\n",
              "      <td>0</td>\n",
              "      <td>40</td>\n",
              "      <td>274</td>\n",
              "      <td>381.0</td>\n",
              "      <td>783.0</td>\n",
              "      <td>682</td>\n",
              "      <td>1018</td>\n",
              "    </tr>\n",
              "    <tr>\n",
              "      <th>224</th>\n",
              "      <td>224</td>\n",
              "      <td>1280</td>\n",
              "      <td>1024</td>\n",
              "      <td>img225.jpg</td>\n",
              "      <td>1</td>\n",
              "      <td></td>\n",
              "      <td>224</td>\n",
              "      <td>1</td>\n",
              "      <td>[776, 130, 1268, 130, 1268, 568, 776, 568]</td>\n",
              "      <td>215496</td>\n",
              "      <td>[776, 130, 492, 438]</td>\n",
              "      <td>0</td>\n",
              "      <td>776</td>\n",
              "      <td>130</td>\n",
              "      <td>1022.0</td>\n",
              "      <td>349.0</td>\n",
              "      <td>492</td>\n",
              "      <td>438</td>\n",
              "    </tr>\n",
              "    <tr>\n",
              "      <th>225</th>\n",
              "      <td>225</td>\n",
              "      <td>1920</td>\n",
              "      <td>1200</td>\n",
              "      <td>img226.jpg</td>\n",
              "      <td>1</td>\n",
              "      <td></td>\n",
              "      <td>225</td>\n",
              "      <td>1</td>\n",
              "      <td>[987, 619, 1397, 619, 1397, 1156, 987, 1156]</td>\n",
              "      <td>220170</td>\n",
              "      <td>[987, 619, 410, 537]</td>\n",
              "      <td>0</td>\n",
              "      <td>987</td>\n",
              "      <td>619</td>\n",
              "      <td>1192.0</td>\n",
              "      <td>887.5</td>\n",
              "      <td>410</td>\n",
              "      <td>537</td>\n",
              "    </tr>\n",
              "  </tbody>\n",
              "</table>\n",
              "</div>"
            ],
            "text/plain": [
              "      id  width  height   file_name  ...   bb_x1  bb_y1 bb_width  bb_height\n",
              "221  221   1600    1200  img222.jpg  ...   811.0  790.0      478        700\n",
              "222  222    900    1600  img223.jpg  ...   444.0  778.5      750        781\n",
              "223  223    736    1377  img224.jpg  ...   381.0  783.0      682       1018\n",
              "224  224   1280    1024  img225.jpg  ...  1022.0  349.0      492        438\n",
              "225  225   1920    1200  img226.jpg  ...  1192.0  887.5      410        537\n",
              "\n",
              "[5 rows x 18 columns]"
            ]
          },
          "metadata": {
            "tags": []
          },
          "execution_count": 37
        }
      ]
    },
    {
      "cell_type": "code",
      "metadata": {
        "id": "iirUhngkZz99",
        "colab_type": "code",
        "colab": {}
      },
      "source": [
        "df_processed = df_input[['file_name','width','height','bb_x1','bb_y1','bb_width','bb_height']]"
      ],
      "execution_count": 0,
      "outputs": []
    },
    {
      "cell_type": "markdown",
      "metadata": {
        "id": "93-ExcSed5RV",
        "colab_type": "text"
      },
      "source": [
        "Scaling all 4 x,y,h,w"
      ]
    },
    {
      "cell_type": "code",
      "metadata": {
        "id": "igx__sTNds75",
        "colab_type": "code",
        "colab": {}
      },
      "source": [
        "df_processed['x'] = df_processed['bb_x1'].div(df_processed['width'])\n",
        "df_processed['y'] = df_processed['bb_y1'].div(df_processed['height'])\n",
        "df_processed['h'] = df_processed['bb_height'].div(df_processed['height'])\n",
        "df_processed['w'] = df_processed['bb_width'].div(df_processed['width'])"
      ],
      "execution_count": 0,
      "outputs": []
    },
    {
      "cell_type": "code",
      "metadata": {
        "id": "uu-NUiEseO2k",
        "colab_type": "code",
        "outputId": "e4fadd99-99fc-40f3-c0e1-ec5121fbddef",
        "colab": {
          "base_uri": "https://localhost:8080/",
          "height": 302
        }
      },
      "source": [
        "df_output = df_processed[['file_name','x','y','h','w']]\n",
        "df_output['name'] = df_output.file_name.str.split('.', expand=True)[0]+'.txt'\n",
        "df_output = df_output[['name','x','y','h','w']]\n",
        "df_output.head() "
      ],
      "execution_count": 0,
      "outputs": [
        {
          "output_type": "stream",
          "text": [
            "/usr/local/lib/python3.6/dist-packages/ipykernel_launcher.py:2: SettingWithCopyWarning: \n",
            "A value is trying to be set on a copy of a slice from a DataFrame.\n",
            "Try using .loc[row_indexer,col_indexer] = value instead\n",
            "\n",
            "See the caveats in the documentation: https://pandas.pydata.org/pandas-docs/stable/user_guide/indexing.html#returning-a-view-versus-a-copy\n",
            "  \n"
          ],
          "name": "stderr"
        },
        {
          "output_type": "execute_result",
          "data": {
            "text/html": [
              "<div>\n",
              "<style scoped>\n",
              "    .dataframe tbody tr th:only-of-type {\n",
              "        vertical-align: middle;\n",
              "    }\n",
              "\n",
              "    .dataframe tbody tr th {\n",
              "        vertical-align: top;\n",
              "    }\n",
              "\n",
              "    .dataframe thead th {\n",
              "        text-align: right;\n",
              "    }\n",
              "</style>\n",
              "<table border=\"1\" class=\"dataframe\">\n",
              "  <thead>\n",
              "    <tr style=\"text-align: right;\">\n",
              "      <th></th>\n",
              "      <th>name</th>\n",
              "      <th>x</th>\n",
              "      <th>y</th>\n",
              "      <th>h</th>\n",
              "      <th>w</th>\n",
              "    </tr>\n",
              "  </thead>\n",
              "  <tbody>\n",
              "    <tr>\n",
              "      <th>0</th>\n",
              "      <td>img001.txt</td>\n",
              "      <td>0.687240</td>\n",
              "      <td>0.452778</td>\n",
              "      <td>0.844444</td>\n",
              "      <td>0.360938</td>\n",
              "    </tr>\n",
              "    <tr>\n",
              "      <th>1</th>\n",
              "      <td>img002.txt</td>\n",
              "      <td>0.576562</td>\n",
              "      <td>0.524074</td>\n",
              "      <td>0.857407</td>\n",
              "      <td>0.467708</td>\n",
              "    </tr>\n",
              "    <tr>\n",
              "      <th>2</th>\n",
              "      <td>img003.txt</td>\n",
              "      <td>0.603906</td>\n",
              "      <td>0.533333</td>\n",
              "      <td>0.570000</td>\n",
              "      <td>0.417187</td>\n",
              "    </tr>\n",
              "    <tr>\n",
              "      <th>3</th>\n",
              "      <td>img004.txt</td>\n",
              "      <td>0.732639</td>\n",
              "      <td>0.478056</td>\n",
              "      <td>0.813889</td>\n",
              "      <td>0.429167</td>\n",
              "    </tr>\n",
              "    <tr>\n",
              "      <th>4</th>\n",
              "      <td>img005.txt</td>\n",
              "      <td>0.494792</td>\n",
              "      <td>0.644583</td>\n",
              "      <td>0.684167</td>\n",
              "      <td>0.260417</td>\n",
              "    </tr>\n",
              "  </tbody>\n",
              "</table>\n",
              "</div>"
            ],
            "text/plain": [
              "         name         x         y         h         w\n",
              "0  img001.txt  0.687240  0.452778  0.844444  0.360938\n",
              "1  img002.txt  0.576562  0.524074  0.857407  0.467708\n",
              "2  img003.txt  0.603906  0.533333  0.570000  0.417187\n",
              "3  img004.txt  0.732639  0.478056  0.813889  0.429167\n",
              "4  img005.txt  0.494792  0.644583  0.684167  0.260417"
            ]
          },
          "metadata": {
            "tags": []
          },
          "execution_count": 90
        }
      ]
    },
    {
      "cell_type": "code",
      "metadata": {
        "id": "CT_9Dtvelsqj",
        "colab_type": "code",
        "outputId": "d151aa26-1982-45bc-caf2-a583ad12ef33",
        "colab": {
          "base_uri": "https://localhost:8080/",
          "height": 34
        }
      },
      "source": [
        "%cd '/content/gdrive/My Drive/EVA4_S13_Yolo_Custom_Dataset/custom_data/labels/'"
      ],
      "execution_count": 0,
      "outputs": [
        {
          "output_type": "stream",
          "text": [
            "/content/gdrive/My Drive/EVA4_S13_Yolo_Custom_Dataset/custom_data/labels\n"
          ],
          "name": "stdout"
        }
      ]
    },
    {
      "cell_type": "code",
      "metadata": {
        "id": "4Uj9TTfkmdJy",
        "colab_type": "code",
        "colab": {}
      },
      "source": [
        "for i in range(len(df_output)):\n",
        "  fname = df_output.iloc[i,0]\n",
        "  ftext = '0'+' '+df_output.iloc[i,1].astype(str)+' '+df_output.iloc[i,2].astype(str)+' '+df_output.iloc[i,3].astype(str)+' '+df_output.iloc[i,4].astype(str)  \n",
        "  fh = open(fname, mode='w')\n",
        "  fh.write(ftext)  \n",
        "  fh.close()"
      ],
      "execution_count": 0,
      "outputs": []
    },
    {
      "cell_type": "code",
      "metadata": {
        "id": "9RHKsYLu_DnV",
        "colab_type": "code",
        "colab": {}
      },
      "source": [
        "df_output['name'] = df_output.name.str.split('.', expand=True)[0]+'.jpg'"
      ],
      "execution_count": 0,
      "outputs": []
    },
    {
      "cell_type": "code",
      "metadata": {
        "id": "Kjayy1ucBvz3",
        "colab_type": "code",
        "outputId": "a5e5831c-5eff-43cb-b4df-1016c1e854f6",
        "colab": {
          "base_uri": "https://localhost:8080/",
          "height": 34
        }
      },
      "source": [
        "%cd '/content/gdrive/My Drive/EVA4_S13_Yolo_Custom_Dataset/custom_data/'"
      ],
      "execution_count": 0,
      "outputs": [
        {
          "output_type": "stream",
          "text": [
            "/content/gdrive/My Drive/EVA4_S13_Yolo_Custom_Dataset/custom_data\n"
          ],
          "name": "stdout"
        }
      ]
    },
    {
      "cell_type": "code",
      "metadata": {
        "id": "1JS2msivlWYQ",
        "colab_type": "code",
        "colab": {}
      },
      "source": [
        "fname = 'custom.txt'\n",
        "fh = open(fname, mode='w')\n",
        "fh.truncate()\n",
        "for i in range(len(df_output)):  \n",
        "  ftext = './data/customdata/images/'+df_output.iloc[i,0]\n",
        "  fh.write(ftext)\n",
        "  fh.write('\\n')\n",
        "fh.close()"
      ],
      "execution_count": 0,
      "outputs": []
    },
    {
      "cell_type": "code",
      "metadata": {
        "id": "a7Sp0F4sBkeL",
        "colab_type": "code",
        "colab": {}
      },
      "source": [
        ""
      ],
      "execution_count": 0,
      "outputs": []
    }
  ]
}